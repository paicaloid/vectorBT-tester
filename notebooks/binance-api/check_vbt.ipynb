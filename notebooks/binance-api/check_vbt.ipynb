{
 "cells": [
  {
   "cell_type": "code",
   "execution_count": 1,
   "metadata": {},
   "outputs": [
    {
     "data": {
      "text/html": [
       "<pre style=\"white-space:pre;overflow-x:auto;line-height:normal;font-family:Menlo,'DejaVu Sans Mono',consolas,'Courier New',monospace\"><span style=\"color: #7fbfbf; text-decoration-color: #7fbfbf\">[04/12/23 15:03:46] </span><span style=\"color: #800000; text-decoration-color: #800000\">WARNING </span> c:\\Users\\natta\\anaconda3\\envs\\vbt-pro\\lib\\site-packages\\quantstats\\rep <a href=\"file://c:\\Users\\natta\\anaconda3\\envs\\vbt-pro\\lib\\warnings.py\" target=\"_blank\"><span style=\"color: #7f7f7f; text-decoration-color: #7f7f7f\">warnings.py</span></a><span style=\"color: #7f7f7f; text-decoration-color: #7f7f7f\">:</span><a href=\"file://c:\\Users\\natta\\anaconda3\\envs\\vbt-pro\\lib\\warnings.py#109\" target=\"_blank\"><span style=\"color: #7f7f7f; text-decoration-color: #7f7f7f\">109</span></a>\n",
       "<span style=\"color: #7fbfbf; text-decoration-color: #7fbfbf\">                    </span>         orts.py:<span style=\"color: #008080; text-decoration-color: #008080; font-weight: bold\">37</span>: DeprecationWarning: Importing display from                 <span style=\"color: #7f7f7f; text-decoration-color: #7f7f7f\">               </span>\n",
       "<span style=\"color: #7fbfbf; text-decoration-color: #7fbfbf\">                    </span>         IPython.core.display is deprecated since IPython <span style=\"color: #008080; text-decoration-color: #008080; font-weight: bold\">7.14</span>, please import   <span style=\"color: #7f7f7f; text-decoration-color: #7f7f7f\">               </span>\n",
       "<span style=\"color: #7fbfbf; text-decoration-color: #7fbfbf\">                    </span>         from IPython display                                                   <span style=\"color: #7f7f7f; text-decoration-color: #7f7f7f\">               </span>\n",
       "<span style=\"color: #7fbfbf; text-decoration-color: #7fbfbf\">                    </span>           from IPython.core.display import <span style=\"font-weight: bold\">(</span>                                   <span style=\"color: #7f7f7f; text-decoration-color: #7f7f7f\">               </span>\n",
       "<span style=\"color: #7fbfbf; text-decoration-color: #7fbfbf\">                    </span>                                                                                <span style=\"color: #7f7f7f; text-decoration-color: #7f7f7f\">               </span>\n",
       "</pre>\n"
      ],
      "text/plain": [
       "\u001b[2;36m[04/12/23 15:03:46]\u001b[0m\u001b[2;36m \u001b[0m\u001b[31mWARNING \u001b[0m c:\\Users\\natta\\anaconda3\\envs\\vbt-pro\\lib\\site-packages\\quantstats\\rep \u001b]8;id=479053;file://c:\\Users\\natta\\anaconda3\\envs\\vbt-pro\\lib\\warnings.py\u001b\\\u001b[2mwarnings.py\u001b[0m\u001b]8;;\u001b\\\u001b[2m:\u001b[0m\u001b]8;id=503327;file://c:\\Users\\natta\\anaconda3\\envs\\vbt-pro\\lib\\warnings.py#109\u001b\\\u001b[2m109\u001b[0m\u001b]8;;\u001b\\\n",
       "\u001b[2;36m                    \u001b[0m         orts.py:\u001b[1;36m37\u001b[0m: DeprecationWarning: Importing display from                 \u001b[2m               \u001b[0m\n",
       "\u001b[2;36m                    \u001b[0m         IPython.core.display is deprecated since IPython \u001b[1;36m7.14\u001b[0m, please import   \u001b[2m               \u001b[0m\n",
       "\u001b[2;36m                    \u001b[0m         from IPython display                                                   \u001b[2m               \u001b[0m\n",
       "\u001b[2;36m                    \u001b[0m           from IPython.core.display import \u001b[1m(\u001b[0m                                   \u001b[2m               \u001b[0m\n",
       "\u001b[2;36m                    \u001b[0m                                                                                \u001b[2m               \u001b[0m\n"
      ]
     },
     "metadata": {},
     "output_type": "display_data"
    },
    {
     "data": {
      "text/html": [
       "<pre style=\"white-space:pre;overflow-x:auto;line-height:normal;font-family:Menlo,'DejaVu Sans Mono',consolas,'Courier New',monospace\"><span style=\"color: #7fbfbf; text-decoration-color: #7fbfbf\">                    </span><span style=\"color: #800000; text-decoration-color: #800000\">WARNING </span> c:\\Users\\natta\\anaconda3\\envs\\vbt-pro\\lib\\site-packages\\quantstats\\uti <a href=\"file://c:\\Users\\natta\\anaconda3\\envs\\vbt-pro\\lib\\warnings.py\" target=\"_blank\"><span style=\"color: #7f7f7f; text-decoration-color: #7f7f7f\">warnings.py</span></a><span style=\"color: #7f7f7f; text-decoration-color: #7f7f7f\">:</span><a href=\"file://c:\\Users\\natta\\anaconda3\\envs\\vbt-pro\\lib\\warnings.py#109\" target=\"_blank\"><span style=\"color: #7f7f7f; text-decoration-color: #7f7f7f\">109</span></a>\n",
       "<span style=\"color: #7fbfbf; text-decoration-color: #7fbfbf\">                    </span>         ls.py:<span style=\"color: #008080; text-decoration-color: #008080; font-weight: bold\">297</span>: DeprecationWarning: `<span style=\"color: #800080; text-decoration-color: #800080; font-weight: bold\">magic</span><span style=\"font-weight: bold\">(</span><span style=\"color: #808000; text-decoration-color: #808000\">...</span><span style=\"font-weight: bold\">)</span>` is deprecated since        <span style=\"color: #7f7f7f; text-decoration-color: #7f7f7f\">               </span>\n",
       "<span style=\"color: #7fbfbf; text-decoration-color: #7fbfbf\">                    </span>         IPython <span style=\"color: #008080; text-decoration-color: #008080; font-weight: bold\">0.13</span> <span style=\"font-weight: bold\">(</span>warning added in <span style=\"color: #008080; text-decoration-color: #008080; font-weight: bold\">8.1</span><span style=\"font-weight: bold\">)</span>, use <span style=\"color: #800080; text-decoration-color: #800080; font-weight: bold\">run_line_magic</span><span style=\"font-weight: bold\">(</span>magic_name,    <span style=\"color: #7f7f7f; text-decoration-color: #7f7f7f\">               </span>\n",
       "<span style=\"color: #7fbfbf; text-decoration-color: #7fbfbf\">                    </span>         parameter_s<span style=\"font-weight: bold\">)</span>.                                                          <span style=\"color: #7f7f7f; text-decoration-color: #7f7f7f\">               </span>\n",
       "<span style=\"color: #7fbfbf; text-decoration-color: #7fbfbf\">                    </span>           <span style=\"color: #800080; text-decoration-color: #800080; font-weight: bold\">get_ipython</span><span style=\"font-weight: bold\">()</span><span style=\"color: #800080; text-decoration-color: #800080; font-weight: bold\">.magic</span><span style=\"font-weight: bold\">(</span><span style=\"color: #008000; text-decoration-color: #008000\">\"matplotlib inline\"</span><span style=\"font-weight: bold\">)</span>                             <span style=\"color: #7f7f7f; text-decoration-color: #7f7f7f\">               </span>\n",
       "<span style=\"color: #7fbfbf; text-decoration-color: #7fbfbf\">                    </span>                                                                                <span style=\"color: #7f7f7f; text-decoration-color: #7f7f7f\">               </span>\n",
       "</pre>\n"
      ],
      "text/plain": [
       "\u001b[2;36m                   \u001b[0m\u001b[2;36m \u001b[0m\u001b[31mWARNING \u001b[0m c:\\Users\\natta\\anaconda3\\envs\\vbt-pro\\lib\\site-packages\\quantstats\\uti \u001b]8;id=809854;file://c:\\Users\\natta\\anaconda3\\envs\\vbt-pro\\lib\\warnings.py\u001b\\\u001b[2mwarnings.py\u001b[0m\u001b]8;;\u001b\\\u001b[2m:\u001b[0m\u001b]8;id=673055;file://c:\\Users\\natta\\anaconda3\\envs\\vbt-pro\\lib\\warnings.py#109\u001b\\\u001b[2m109\u001b[0m\u001b]8;;\u001b\\\n",
       "\u001b[2;36m                    \u001b[0m         ls.py:\u001b[1;36m297\u001b[0m: DeprecationWarning: `\u001b[1;35mmagic\u001b[0m\u001b[1m(\u001b[0m\u001b[33m...\u001b[0m\u001b[1m)\u001b[0m` is deprecated since        \u001b[2m               \u001b[0m\n",
       "\u001b[2;36m                    \u001b[0m         IPython \u001b[1;36m0.13\u001b[0m \u001b[1m(\u001b[0mwarning added in \u001b[1;36m8.1\u001b[0m\u001b[1m)\u001b[0m, use \u001b[1;35mrun_line_magic\u001b[0m\u001b[1m(\u001b[0mmagic_name,    \u001b[2m               \u001b[0m\n",
       "\u001b[2;36m                    \u001b[0m         parameter_s\u001b[1m)\u001b[0m.                                                          \u001b[2m               \u001b[0m\n",
       "\u001b[2;36m                    \u001b[0m           \u001b[1;35mget_ipython\u001b[0m\u001b[1m(\u001b[0m\u001b[1m)\u001b[0m\u001b[1;35m.magic\u001b[0m\u001b[1m(\u001b[0m\u001b[32m\"matplotlib inline\"\u001b[0m\u001b[1m)\u001b[0m                             \u001b[2m               \u001b[0m\n",
       "\u001b[2;36m                    \u001b[0m                                                                                \u001b[2m               \u001b[0m\n"
      ]
     },
     "metadata": {},
     "output_type": "display_data"
    }
   ],
   "source": [
    "import vectorbtpro as vbt"
   ]
  },
  {
   "cell_type": "code",
   "execution_count": 2,
   "metadata": {},
   "outputs": [
    {
     "data": {
      "application/vnd.jupyter.widget-view+json": {
       "model_id": "5b184a1e28c843628ab50d9f5251cf03",
       "version_major": 2,
       "version_minor": 0
      },
      "text/plain": [
       "0it [00:00, ?it/s]"
      ]
     },
     "metadata": {},
     "output_type": "display_data"
    }
   ],
   "source": [
    "data = vbt.BinanceData.fetch(\n",
    "    \"BTCUSDT\",\n",
    "    start=\"2023-04-11 13:30:00\",\n",
    "    end=\"2023-04-11 16:13:00\",\n",
    "    timeframe=\"1 minutes\",\n",
    "    tz=\"Asia/Bangkok\"\n",
    ")"
   ]
  },
  {
   "cell_type": "code",
   "execution_count": null,
   "metadata": {},
   "outputs": [],
   "source": [
    "from indicators.adx import ADX"
   ]
  },
  {
   "cell_type": "code",
   "execution_count": null,
   "metadata": {},
   "outputs": [],
   "source": [
    "adx, plusDI, minusDI = ADX(high=data.get(\"High\"), low=data.get(\"Low\"), close=data.get(\"Close\"), period=14)"
   ]
  },
  {
   "attachments": {},
   "cell_type": "markdown",
   "metadata": {},
   "source": [
    "@2023-04-11 16:12:00+07:00 \n",
    "ADX     --> 20.37\n",
    "plusDI  --> 24.80\n",
    "minusDI --> 35.51"
   ]
  },
  {
   "cell_type": "code",
   "execution_count": null,
   "metadata": {},
   "outputs": [],
   "source": [
    "print(\"ADX : {}\".format(adx.iloc[-1]))\n",
    "print(\"plusDI : {}\".format(plusDI.iloc[-1]))\n",
    "print(\"minusDI : {}\".format(minusDI.iloc[-1]))"
   ]
  },
  {
   "cell_type": "code",
   "execution_count": null,
   "metadata": {},
   "outputs": [],
   "source": [
    "adx"
   ]
  },
  {
   "cell_type": "code",
   "execution_count": null,
   "metadata": {},
   "outputs": [],
   "source": [
    "data"
   ]
  },
  {
   "cell_type": "code",
   "execution_count": 3,
   "metadata": {},
   "outputs": [
    {
     "data": {
      "text/html": [
       "<div>\n",
       "<style scoped>\n",
       "    .dataframe tbody tr th:only-of-type {\n",
       "        vertical-align: middle;\n",
       "    }\n",
       "\n",
       "    .dataframe tbody tr th {\n",
       "        vertical-align: top;\n",
       "    }\n",
       "\n",
       "    .dataframe thead th {\n",
       "        text-align: right;\n",
       "    }\n",
       "</style>\n",
       "<table border=\"1\" class=\"dataframe\">\n",
       "  <thead>\n",
       "    <tr style=\"text-align: right;\">\n",
       "      <th></th>\n",
       "      <th>Open</th>\n",
       "      <th>High</th>\n",
       "      <th>Low</th>\n",
       "      <th>Close</th>\n",
       "      <th>Volume</th>\n",
       "      <th>Quote volume</th>\n",
       "      <th>Trade count</th>\n",
       "      <th>Taker base volume</th>\n",
       "      <th>Taker quote volume</th>\n",
       "    </tr>\n",
       "    <tr>\n",
       "      <th>Open time</th>\n",
       "      <th></th>\n",
       "      <th></th>\n",
       "      <th></th>\n",
       "      <th></th>\n",
       "      <th></th>\n",
       "      <th></th>\n",
       "      <th></th>\n",
       "      <th></th>\n",
       "      <th></th>\n",
       "    </tr>\n",
       "  </thead>\n",
       "  <tbody>\n",
       "    <tr>\n",
       "      <th>2023-04-11 13:30:00+07:00</th>\n",
       "      <td>30086.99</td>\n",
       "      <td>30087.77</td>\n",
       "      <td>30072.49</td>\n",
       "      <td>30072.49</td>\n",
       "      <td>41.44737</td>\n",
       "      <td>1.246846e+06</td>\n",
       "      <td>1062</td>\n",
       "      <td>20.81004</td>\n",
       "      <td>6.260076e+05</td>\n",
       "    </tr>\n",
       "    <tr>\n",
       "      <th>2023-04-11 13:31:00+07:00</th>\n",
       "      <td>30072.49</td>\n",
       "      <td>30072.50</td>\n",
       "      <td>30071.46</td>\n",
       "      <td>30072.30</td>\n",
       "      <td>17.91740</td>\n",
       "      <td>5.388180e+05</td>\n",
       "      <td>507</td>\n",
       "      <td>11.37900</td>\n",
       "      <td>3.421930e+05</td>\n",
       "    </tr>\n",
       "    <tr>\n",
       "      <th>2023-04-11 13:32:00+07:00</th>\n",
       "      <td>30072.31</td>\n",
       "      <td>30072.31</td>\n",
       "      <td>30063.01</td>\n",
       "      <td>30065.00</td>\n",
       "      <td>23.84371</td>\n",
       "      <td>7.169094e+05</td>\n",
       "      <td>590</td>\n",
       "      <td>11.48279</td>\n",
       "      <td>3.452473e+05</td>\n",
       "    </tr>\n",
       "    <tr>\n",
       "      <th>2023-04-11 13:33:00+07:00</th>\n",
       "      <td>30064.99</td>\n",
       "      <td>30067.79</td>\n",
       "      <td>30064.99</td>\n",
       "      <td>30064.99</td>\n",
       "      <td>15.40921</td>\n",
       "      <td>4.632813e+05</td>\n",
       "      <td>456</td>\n",
       "      <td>11.02325</td>\n",
       "      <td>3.314175e+05</td>\n",
       "    </tr>\n",
       "    <tr>\n",
       "      <th>2023-04-11 13:34:00+07:00</th>\n",
       "      <td>30064.99</td>\n",
       "      <td>30065.00</td>\n",
       "      <td>30058.86</td>\n",
       "      <td>30058.86</td>\n",
       "      <td>14.29718</td>\n",
       "      <td>4.297834e+05</td>\n",
       "      <td>530</td>\n",
       "      <td>4.36403</td>\n",
       "      <td>1.311836e+05</td>\n",
       "    </tr>\n",
       "    <tr>\n",
       "      <th>...</th>\n",
       "      <td>...</td>\n",
       "      <td>...</td>\n",
       "      <td>...</td>\n",
       "      <td>...</td>\n",
       "      <td>...</td>\n",
       "      <td>...</td>\n",
       "      <td>...</td>\n",
       "      <td>...</td>\n",
       "      <td>...</td>\n",
       "    </tr>\n",
       "    <tr>\n",
       "      <th>2023-04-11 16:08:00+07:00</th>\n",
       "      <td>30048.14</td>\n",
       "      <td>30048.15</td>\n",
       "      <td>30032.44</td>\n",
       "      <td>30044.19</td>\n",
       "      <td>57.45097</td>\n",
       "      <td>1.725919e+06</td>\n",
       "      <td>1069</td>\n",
       "      <td>20.66356</td>\n",
       "      <td>6.207558e+05</td>\n",
       "    </tr>\n",
       "    <tr>\n",
       "      <th>2023-04-11 16:09:00+07:00</th>\n",
       "      <td>30044.20</td>\n",
       "      <td>30045.82</td>\n",
       "      <td>30044.13</td>\n",
       "      <td>30045.68</td>\n",
       "      <td>36.10259</td>\n",
       "      <td>1.084712e+06</td>\n",
       "      <td>553</td>\n",
       "      <td>21.89374</td>\n",
       "      <td>6.578045e+05</td>\n",
       "    </tr>\n",
       "    <tr>\n",
       "      <th>2023-04-11 16:10:00+07:00</th>\n",
       "      <td>30045.67</td>\n",
       "      <td>30056.41</td>\n",
       "      <td>30045.51</td>\n",
       "      <td>30054.77</td>\n",
       "      <td>63.44736</td>\n",
       "      <td>1.906680e+06</td>\n",
       "      <td>867</td>\n",
       "      <td>38.40414</td>\n",
       "      <td>1.154103e+06</td>\n",
       "    </tr>\n",
       "    <tr>\n",
       "      <th>2023-04-11 16:11:00+07:00</th>\n",
       "      <td>30054.77</td>\n",
       "      <td>30059.59</td>\n",
       "      <td>30052.27</td>\n",
       "      <td>30059.14</td>\n",
       "      <td>28.56432</td>\n",
       "      <td>8.585366e+05</td>\n",
       "      <td>528</td>\n",
       "      <td>22.11269</td>\n",
       "      <td>6.646264e+05</td>\n",
       "    </tr>\n",
       "    <tr>\n",
       "      <th>2023-04-11 16:12:00+07:00</th>\n",
       "      <td>30059.13</td>\n",
       "      <td>30063.21</td>\n",
       "      <td>30051.91</td>\n",
       "      <td>30051.91</td>\n",
       "      <td>34.65473</td>\n",
       "      <td>1.041740e+06</td>\n",
       "      <td>591</td>\n",
       "      <td>22.03809</td>\n",
       "      <td>6.624731e+05</td>\n",
       "    </tr>\n",
       "  </tbody>\n",
       "</table>\n",
       "<p>163 rows × 9 columns</p>\n",
       "</div>"
      ],
      "text/plain": [
       "                               Open      High       Low     Close    Volume   \n",
       "Open time                                                                     \n",
       "2023-04-11 13:30:00+07:00  30086.99  30087.77  30072.49  30072.49  41.44737  \\\n",
       "2023-04-11 13:31:00+07:00  30072.49  30072.50  30071.46  30072.30  17.91740   \n",
       "2023-04-11 13:32:00+07:00  30072.31  30072.31  30063.01  30065.00  23.84371   \n",
       "2023-04-11 13:33:00+07:00  30064.99  30067.79  30064.99  30064.99  15.40921   \n",
       "2023-04-11 13:34:00+07:00  30064.99  30065.00  30058.86  30058.86  14.29718   \n",
       "...                             ...       ...       ...       ...       ...   \n",
       "2023-04-11 16:08:00+07:00  30048.14  30048.15  30032.44  30044.19  57.45097   \n",
       "2023-04-11 16:09:00+07:00  30044.20  30045.82  30044.13  30045.68  36.10259   \n",
       "2023-04-11 16:10:00+07:00  30045.67  30056.41  30045.51  30054.77  63.44736   \n",
       "2023-04-11 16:11:00+07:00  30054.77  30059.59  30052.27  30059.14  28.56432   \n",
       "2023-04-11 16:12:00+07:00  30059.13  30063.21  30051.91  30051.91  34.65473   \n",
       "\n",
       "                           Quote volume  Trade count  Taker base volume   \n",
       "Open time                                                                 \n",
       "2023-04-11 13:30:00+07:00  1.246846e+06         1062           20.81004  \\\n",
       "2023-04-11 13:31:00+07:00  5.388180e+05          507           11.37900   \n",
       "2023-04-11 13:32:00+07:00  7.169094e+05          590           11.48279   \n",
       "2023-04-11 13:33:00+07:00  4.632813e+05          456           11.02325   \n",
       "2023-04-11 13:34:00+07:00  4.297834e+05          530            4.36403   \n",
       "...                                 ...          ...                ...   \n",
       "2023-04-11 16:08:00+07:00  1.725919e+06         1069           20.66356   \n",
       "2023-04-11 16:09:00+07:00  1.084712e+06          553           21.89374   \n",
       "2023-04-11 16:10:00+07:00  1.906680e+06          867           38.40414   \n",
       "2023-04-11 16:11:00+07:00  8.585366e+05          528           22.11269   \n",
       "2023-04-11 16:12:00+07:00  1.041740e+06          591           22.03809   \n",
       "\n",
       "                           Taker quote volume  \n",
       "Open time                                      \n",
       "2023-04-11 13:30:00+07:00        6.260076e+05  \n",
       "2023-04-11 13:31:00+07:00        3.421930e+05  \n",
       "2023-04-11 13:32:00+07:00        3.452473e+05  \n",
       "2023-04-11 13:33:00+07:00        3.314175e+05  \n",
       "2023-04-11 13:34:00+07:00        1.311836e+05  \n",
       "...                                       ...  \n",
       "2023-04-11 16:08:00+07:00        6.207558e+05  \n",
       "2023-04-11 16:09:00+07:00        6.578045e+05  \n",
       "2023-04-11 16:10:00+07:00        1.154103e+06  \n",
       "2023-04-11 16:11:00+07:00        6.646264e+05  \n",
       "2023-04-11 16:12:00+07:00        6.624731e+05  \n",
       "\n",
       "[163 rows x 9 columns]"
      ]
     },
     "execution_count": 3,
     "metadata": {},
     "output_type": "execute_result"
    }
   ],
   "source": [
    "data.data[\"BTCUSDT\"]"
   ]
  },
  {
   "cell_type": "code",
   "execution_count": 5,
   "metadata": {},
   "outputs": [],
   "source": [
    "import pandas as pd\n",
    "# add_data = {\n",
    "#     \"Open\": 100,\n",
    "#     \"High\": 200,\n",
    "#     \"Low\": 50,\n",
    "#     \"Close\": 150,\n",
    "#     \"Quote volume\": 1000,\n",
    "#     \"Trade count\": 100,\n",
    "#     \"Taker base volume\": 100,\n",
    "#     \"Taker quote volume\": 1000,\n",
    "# }\n",
    "# add_row = pd.DataFrame(add_data, index=[pd.Timestamp(\"2023-04-11 16:13:00\")])"
   ]
  },
  {
   "cell_type": "code",
   "execution_count": 6,
   "metadata": {},
   "outputs": [],
   "source": [
    "data.data[\"BTCUSDT\"].loc[pd.Timestamp(\"2023-04-11 16:13:00\")] = [100,100, 100, 100, 100,100,100, 100, 100]"
   ]
  },
  {
   "cell_type": "code",
   "execution_count": 7,
   "metadata": {},
   "outputs": [
    {
     "data": {
      "text/html": [
       "<div>\n",
       "<style scoped>\n",
       "    .dataframe tbody tr th:only-of-type {\n",
       "        vertical-align: middle;\n",
       "    }\n",
       "\n",
       "    .dataframe tbody tr th {\n",
       "        vertical-align: top;\n",
       "    }\n",
       "\n",
       "    .dataframe thead th {\n",
       "        text-align: right;\n",
       "    }\n",
       "</style>\n",
       "<table border=\"1\" class=\"dataframe\">\n",
       "  <thead>\n",
       "    <tr style=\"text-align: right;\">\n",
       "      <th></th>\n",
       "      <th>Open</th>\n",
       "      <th>High</th>\n",
       "      <th>Low</th>\n",
       "      <th>Close</th>\n",
       "      <th>Volume</th>\n",
       "      <th>Quote volume</th>\n",
       "      <th>Trade count</th>\n",
       "      <th>Taker base volume</th>\n",
       "      <th>Taker quote volume</th>\n",
       "    </tr>\n",
       "    <tr>\n",
       "      <th>Open time</th>\n",
       "      <th></th>\n",
       "      <th></th>\n",
       "      <th></th>\n",
       "      <th></th>\n",
       "      <th></th>\n",
       "      <th></th>\n",
       "      <th></th>\n",
       "      <th></th>\n",
       "      <th></th>\n",
       "    </tr>\n",
       "  </thead>\n",
       "  <tbody>\n",
       "    <tr>\n",
       "      <th>2023-04-11 13:30:00+07:00</th>\n",
       "      <td>30086.99</td>\n",
       "      <td>30087.77</td>\n",
       "      <td>30072.49</td>\n",
       "      <td>30072.49</td>\n",
       "      <td>41.44737</td>\n",
       "      <td>1.246846e+06</td>\n",
       "      <td>1062</td>\n",
       "      <td>20.81004</td>\n",
       "      <td>6.260076e+05</td>\n",
       "    </tr>\n",
       "    <tr>\n",
       "      <th>2023-04-11 13:31:00+07:00</th>\n",
       "      <td>30072.49</td>\n",
       "      <td>30072.50</td>\n",
       "      <td>30071.46</td>\n",
       "      <td>30072.30</td>\n",
       "      <td>17.91740</td>\n",
       "      <td>5.388180e+05</td>\n",
       "      <td>507</td>\n",
       "      <td>11.37900</td>\n",
       "      <td>3.421930e+05</td>\n",
       "    </tr>\n",
       "    <tr>\n",
       "      <th>2023-04-11 13:32:00+07:00</th>\n",
       "      <td>30072.31</td>\n",
       "      <td>30072.31</td>\n",
       "      <td>30063.01</td>\n",
       "      <td>30065.00</td>\n",
       "      <td>23.84371</td>\n",
       "      <td>7.169094e+05</td>\n",
       "      <td>590</td>\n",
       "      <td>11.48279</td>\n",
       "      <td>3.452473e+05</td>\n",
       "    </tr>\n",
       "    <tr>\n",
       "      <th>2023-04-11 13:33:00+07:00</th>\n",
       "      <td>30064.99</td>\n",
       "      <td>30067.79</td>\n",
       "      <td>30064.99</td>\n",
       "      <td>30064.99</td>\n",
       "      <td>15.40921</td>\n",
       "      <td>4.632813e+05</td>\n",
       "      <td>456</td>\n",
       "      <td>11.02325</td>\n",
       "      <td>3.314175e+05</td>\n",
       "    </tr>\n",
       "    <tr>\n",
       "      <th>2023-04-11 13:34:00+07:00</th>\n",
       "      <td>30064.99</td>\n",
       "      <td>30065.00</td>\n",
       "      <td>30058.86</td>\n",
       "      <td>30058.86</td>\n",
       "      <td>14.29718</td>\n",
       "      <td>4.297834e+05</td>\n",
       "      <td>530</td>\n",
       "      <td>4.36403</td>\n",
       "      <td>1.311836e+05</td>\n",
       "    </tr>\n",
       "    <tr>\n",
       "      <th>...</th>\n",
       "      <td>...</td>\n",
       "      <td>...</td>\n",
       "      <td>...</td>\n",
       "      <td>...</td>\n",
       "      <td>...</td>\n",
       "      <td>...</td>\n",
       "      <td>...</td>\n",
       "      <td>...</td>\n",
       "      <td>...</td>\n",
       "    </tr>\n",
       "    <tr>\n",
       "      <th>2023-04-11 16:09:00+07:00</th>\n",
       "      <td>30044.20</td>\n",
       "      <td>30045.82</td>\n",
       "      <td>30044.13</td>\n",
       "      <td>30045.68</td>\n",
       "      <td>36.10259</td>\n",
       "      <td>1.084712e+06</td>\n",
       "      <td>553</td>\n",
       "      <td>21.89374</td>\n",
       "      <td>6.578045e+05</td>\n",
       "    </tr>\n",
       "    <tr>\n",
       "      <th>2023-04-11 16:10:00+07:00</th>\n",
       "      <td>30045.67</td>\n",
       "      <td>30056.41</td>\n",
       "      <td>30045.51</td>\n",
       "      <td>30054.77</td>\n",
       "      <td>63.44736</td>\n",
       "      <td>1.906680e+06</td>\n",
       "      <td>867</td>\n",
       "      <td>38.40414</td>\n",
       "      <td>1.154103e+06</td>\n",
       "    </tr>\n",
       "    <tr>\n",
       "      <th>2023-04-11 16:11:00+07:00</th>\n",
       "      <td>30054.77</td>\n",
       "      <td>30059.59</td>\n",
       "      <td>30052.27</td>\n",
       "      <td>30059.14</td>\n",
       "      <td>28.56432</td>\n",
       "      <td>8.585366e+05</td>\n",
       "      <td>528</td>\n",
       "      <td>22.11269</td>\n",
       "      <td>6.646264e+05</td>\n",
       "    </tr>\n",
       "    <tr>\n",
       "      <th>2023-04-11 16:12:00+07:00</th>\n",
       "      <td>30059.13</td>\n",
       "      <td>30063.21</td>\n",
       "      <td>30051.91</td>\n",
       "      <td>30051.91</td>\n",
       "      <td>34.65473</td>\n",
       "      <td>1.041740e+06</td>\n",
       "      <td>591</td>\n",
       "      <td>22.03809</td>\n",
       "      <td>6.624731e+05</td>\n",
       "    </tr>\n",
       "    <tr>\n",
       "      <th>2023-04-11 16:13:00</th>\n",
       "      <td>100.00</td>\n",
       "      <td>100.00</td>\n",
       "      <td>100.00</td>\n",
       "      <td>100.00</td>\n",
       "      <td>100.00000</td>\n",
       "      <td>1.000000e+02</td>\n",
       "      <td>100</td>\n",
       "      <td>100.00000</td>\n",
       "      <td>1.000000e+02</td>\n",
       "    </tr>\n",
       "  </tbody>\n",
       "</table>\n",
       "<p>164 rows × 9 columns</p>\n",
       "</div>"
      ],
      "text/plain": [
       "                               Open      High       Low     Close     Volume   \n",
       "Open time                                                                      \n",
       "2023-04-11 13:30:00+07:00  30086.99  30087.77  30072.49  30072.49   41.44737  \\\n",
       "2023-04-11 13:31:00+07:00  30072.49  30072.50  30071.46  30072.30   17.91740   \n",
       "2023-04-11 13:32:00+07:00  30072.31  30072.31  30063.01  30065.00   23.84371   \n",
       "2023-04-11 13:33:00+07:00  30064.99  30067.79  30064.99  30064.99   15.40921   \n",
       "2023-04-11 13:34:00+07:00  30064.99  30065.00  30058.86  30058.86   14.29718   \n",
       "...                             ...       ...       ...       ...        ...   \n",
       "2023-04-11 16:09:00+07:00  30044.20  30045.82  30044.13  30045.68   36.10259   \n",
       "2023-04-11 16:10:00+07:00  30045.67  30056.41  30045.51  30054.77   63.44736   \n",
       "2023-04-11 16:11:00+07:00  30054.77  30059.59  30052.27  30059.14   28.56432   \n",
       "2023-04-11 16:12:00+07:00  30059.13  30063.21  30051.91  30051.91   34.65473   \n",
       "2023-04-11 16:13:00          100.00    100.00    100.00    100.00  100.00000   \n",
       "\n",
       "                           Quote volume  Trade count  Taker base volume   \n",
       "Open time                                                                 \n",
       "2023-04-11 13:30:00+07:00  1.246846e+06         1062           20.81004  \\\n",
       "2023-04-11 13:31:00+07:00  5.388180e+05          507           11.37900   \n",
       "2023-04-11 13:32:00+07:00  7.169094e+05          590           11.48279   \n",
       "2023-04-11 13:33:00+07:00  4.632813e+05          456           11.02325   \n",
       "2023-04-11 13:34:00+07:00  4.297834e+05          530            4.36403   \n",
       "...                                 ...          ...                ...   \n",
       "2023-04-11 16:09:00+07:00  1.084712e+06          553           21.89374   \n",
       "2023-04-11 16:10:00+07:00  1.906680e+06          867           38.40414   \n",
       "2023-04-11 16:11:00+07:00  8.585366e+05          528           22.11269   \n",
       "2023-04-11 16:12:00+07:00  1.041740e+06          591           22.03809   \n",
       "2023-04-11 16:13:00        1.000000e+02          100          100.00000   \n",
       "\n",
       "                           Taker quote volume  \n",
       "Open time                                      \n",
       "2023-04-11 13:30:00+07:00        6.260076e+05  \n",
       "2023-04-11 13:31:00+07:00        3.421930e+05  \n",
       "2023-04-11 13:32:00+07:00        3.452473e+05  \n",
       "2023-04-11 13:33:00+07:00        3.314175e+05  \n",
       "2023-04-11 13:34:00+07:00        1.311836e+05  \n",
       "...                                       ...  \n",
       "2023-04-11 16:09:00+07:00        6.578045e+05  \n",
       "2023-04-11 16:10:00+07:00        1.154103e+06  \n",
       "2023-04-11 16:11:00+07:00        6.646264e+05  \n",
       "2023-04-11 16:12:00+07:00        6.624731e+05  \n",
       "2023-04-11 16:13:00              1.000000e+02  \n",
       "\n",
       "[164 rows x 9 columns]"
      ]
     },
     "execution_count": 7,
     "metadata": {},
     "output_type": "execute_result"
    }
   ],
   "source": [
    "data.data[\"BTCUSDT\"]"
   ]
  },
  {
   "cell_type": "code",
   "execution_count": null,
   "metadata": {},
   "outputs": [],
   "source": [
    "data.info()"
   ]
  },
  {
   "cell_type": "code",
   "execution_count": 11,
   "metadata": {},
   "outputs": [],
   "source": [
    "order_test = ['ss']"
   ]
  },
  {
   "cell_type": "code",
   "execution_count": 12,
   "metadata": {},
   "outputs": [
    {
     "name": "stdout",
     "output_type": "stream",
     "text": [
      "Not empty\n"
     ]
    }
   ],
   "source": [
    "if not order_test:\n",
    "    print(\"Empty\")\n",
    "else:\n",
    "    print(\"Not empty\")"
   ]
  },
  {
   "cell_type": "code",
   "execution_count": 13,
   "metadata": {},
   "outputs": [],
   "source": [
    "xxxx = order_test.pop(0)"
   ]
  },
  {
   "cell_type": "code",
   "execution_count": 14,
   "metadata": {},
   "outputs": [
    {
     "data": {
      "text/plain": [
       "'ss'"
      ]
     },
     "execution_count": 14,
     "metadata": {},
     "output_type": "execute_result"
    }
   ],
   "source": [
    "xxxx"
   ]
  },
  {
   "cell_type": "code",
   "execution_count": 15,
   "metadata": {},
   "outputs": [
    {
     "data": {
      "text/plain": [
       "[]"
      ]
     },
     "execution_count": 15,
     "metadata": {},
     "output_type": "execute_result"
    }
   ],
   "source": [
    "order_test"
   ]
  },
  {
   "cell_type": "code",
   "execution_count": null,
   "metadata": {},
   "outputs": [],
   "source": []
  }
 ],
 "metadata": {
  "kernelspec": {
   "display_name": "Kedro (vectorbt_tester)",
   "language": "python",
   "name": "kedro_vectorbt_tester"
  },
  "language_info": {
   "codemirror_mode": {
    "name": "ipython",
    "version": 3
   },
   "file_extension": ".py",
   "mimetype": "text/x-python",
   "name": "python",
   "nbconvert_exporter": "python",
   "pygments_lexer": "ipython3",
   "version": "3.8.16"
  },
  "orig_nbformat": 4
 },
 "nbformat": 4,
 "nbformat_minor": 2
}
