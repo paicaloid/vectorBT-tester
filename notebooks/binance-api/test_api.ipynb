{
 "cells": [
  {
   "cell_type": "code",
   "execution_count": 1,
   "metadata": {},
   "outputs": [],
   "source": [
    "import requests\n",
    "from requests.exceptions import ConnectionError, Timeout, TooManyRedirects\n",
    "import json\n",
    "import os\n",
    "\n",
    "from dotenv import load_dotenv\n",
    "load_dotenv()\n",
    "\n",
    "api_key = os.environ['BINANCE_API_KEY_TEST']\n",
    "api_secret = os.environ['BINANCE_API_SECRET_TEST']\n",
    "\n",
    "url = 'https://api1.binance.com'"
   ]
  },
  {
   "cell_type": "code",
   "execution_count": 4,
   "metadata": {},
   "outputs": [],
   "source": [
    "from binance.client import Client\n",
    "\n",
    "client = Client(api_key, api_secret, testnet=True)"
   ]
  },
  {
   "cell_type": "code",
   "execution_count": 14,
   "metadata": {},
   "outputs": [],
   "source": [
    "info = client.get_account()"
   ]
  },
  {
   "cell_type": "code",
   "execution_count": 15,
   "metadata": {},
   "outputs": [
    {
     "data": {
      "text/plain": [
       "{'makerCommission': 0,\n",
       " 'takerCommission': 0,\n",
       " 'buyerCommission': 0,\n",
       " 'sellerCommission': 0,\n",
       " 'commissionRates': {'maker': '0.00000000',\n",
       "  'taker': '0.00000000',\n",
       "  'buyer': '0.00000000',\n",
       "  'seller': '0.00000000'},\n",
       " 'canTrade': True,\n",
       " 'canWithdraw': False,\n",
       " 'canDeposit': False,\n",
       " 'brokered': False,\n",
       " 'requireSelfTradePrevention': False,\n",
       " 'updateTime': 1681713564427,\n",
       " 'accountType': 'SPOT',\n",
       " 'balances': [{'asset': 'BNB',\n",
       "   'free': '1000.00000000',\n",
       "   'locked': '0.00000000'},\n",
       "  {'asset': 'BTC', 'free': '1.00500000', 'locked': '0.00000000'},\n",
       "  {'asset': 'BUSD', 'free': '9850.31830000', 'locked': '0.00000000'},\n",
       "  {'asset': 'ETH', 'free': '100.00000000', 'locked': '0.00000000'},\n",
       "  {'asset': 'LTC', 'free': '500.00000000', 'locked': '0.00000000'},\n",
       "  {'asset': 'TRX', 'free': '500000.00000000', 'locked': '0.00000000'},\n",
       "  {'asset': 'USDT', 'free': '10000.00000000', 'locked': '0.00000000'},\n",
       "  {'asset': 'XRP', 'free': '50000.00000000', 'locked': '0.00000000'}],\n",
       " 'permissions': ['SPOT']}"
      ]
     },
     "execution_count": 15,
     "metadata": {},
     "output_type": "execute_result"
    }
   ],
   "source": [
    "info"
   ]
  },
  {
   "cell_type": "code",
   "execution_count": 16,
   "metadata": {},
   "outputs": [
    {
     "data": {
      "text/plain": [
       "[{'symbol': 'BTCBUSD',\n",
       "  'id': 775219,\n",
       "  'orderId': 3749989,\n",
       "  'orderListId': -1,\n",
       "  'price': '29936.34000000',\n",
       "  'qty': '0.00500000',\n",
       "  'quoteQty': '149.68170000',\n",
       "  'commission': '0.00000000',\n",
       "  'commissionAsset': 'BTC',\n",
       "  'time': 1681713564427,\n",
       "  'isBuyer': True,\n",
       "  'isMaker': False,\n",
       "  'isBestMatch': True}]"
      ]
     },
     "execution_count": 16,
     "metadata": {},
     "output_type": "execute_result"
    }
   ],
   "source": [
    "trades = client.get_my_trades(symbol='BTCBUSD')\n",
    "trades\n"
   ]
  },
  {
   "cell_type": "code",
   "execution_count": 17,
   "metadata": {},
   "outputs": [
    {
     "data": {
      "text/plain": [
       "[{'symbol': 'BTCBUSD',\n",
       "  'orderId': 3749989,\n",
       "  'orderListId': -1,\n",
       "  'clientOrderId': 'fUOwxVKzdiibYcrmF5tY9p',\n",
       "  'price': '0.00000000',\n",
       "  'origQty': '0.00500000',\n",
       "  'executedQty': '0.00500000',\n",
       "  'cummulativeQuoteQty': '149.68170000',\n",
       "  'status': 'FILLED',\n",
       "  'timeInForce': 'GTC',\n",
       "  'type': 'MARKET',\n",
       "  'side': 'BUY',\n",
       "  'stopPrice': '0.00000000',\n",
       "  'icebergQty': '0.00000000',\n",
       "  'time': 1681713564427,\n",
       "  'updateTime': 1681713564427,\n",
       "  'isWorking': True,\n",
       "  'workingTime': 1681713564427,\n",
       "  'origQuoteOrderQty': '0.00000000',\n",
       "  'selfTradePreventionMode': 'NONE'}]"
      ]
     },
     "execution_count": 17,
     "metadata": {},
     "output_type": "execute_result"
    }
   ],
   "source": [
    "orders = client.get_all_orders(symbol='BTCBUSD', limit=10)\n",
    "orders"
   ]
  },
  {
   "cell_type": "code",
   "execution_count": 12,
   "metadata": {},
   "outputs": [
    {
     "data": {
      "text/plain": [
       "{}"
      ]
     },
     "execution_count": 12,
     "metadata": {},
     "output_type": "execute_result"
    }
   ],
   "source": [
    "buy_order = client.create_test_order(\n",
    "    symbol='BTCBUSD', \n",
    "    side='BUY', \n",
    "    type='MARKET', \n",
    "    quantity=0.0005\n",
    ")\n",
    "buy_order"
   ]
  },
  {
   "cell_type": "code",
   "execution_count": 13,
   "metadata": {},
   "outputs": [
    {
     "name": "stdout",
     "output_type": "stream",
     "text": [
      "{'symbol': 'BTCBUSD', 'orderId': 3749989, 'orderListId': -1, 'clientOrderId': 'fUOwxVKzdiibYcrmF5tY9p', 'transactTime': 1681713564427, 'price': '0.00000000', 'origQty': '0.00500000', 'executedQty': '0.00500000', 'cummulativeQuoteQty': '149.68170000', 'status': 'FILLED', 'timeInForce': 'GTC', 'type': 'MARKET', 'side': 'BUY', 'workingTime': 1681713564427, 'fills': [{'price': '29936.34000000', 'qty': '0.00500000', 'commission': '0.00000000', 'commissionAsset': 'BTC', 'tradeId': 775219}], 'selfTradePreventionMode': 'NONE'}\n"
     ]
    }
   ],
   "source": [
    "order = client.order_market_buy(\n",
    "    symbol='BTCBUSD',\n",
    "    quantity=0.005)\n",
    "print(order)"
   ]
  },
  {
   "cell_type": "code",
   "execution_count": 18,
   "metadata": {},
   "outputs": [],
   "source": [
    "order = client.get_order(\n",
    "    symbol='BTCBUSD',\n",
    "    orderId='3749989'\n",
    ")"
   ]
  },
  {
   "cell_type": "code",
   "execution_count": 19,
   "metadata": {},
   "outputs": [
    {
     "data": {
      "text/plain": [
       "{'symbol': 'BTCBUSD',\n",
       " 'orderId': 3749989,\n",
       " 'orderListId': -1,\n",
       " 'clientOrderId': 'fUOwxVKzdiibYcrmF5tY9p',\n",
       " 'price': '0.00000000',\n",
       " 'origQty': '0.00500000',\n",
       " 'executedQty': '0.00500000',\n",
       " 'cummulativeQuoteQty': '149.68170000',\n",
       " 'status': 'FILLED',\n",
       " 'timeInForce': 'GTC',\n",
       " 'type': 'MARKET',\n",
       " 'side': 'BUY',\n",
       " 'stopPrice': '0.00000000',\n",
       " 'icebergQty': '0.00000000',\n",
       " 'time': 1681713564427,\n",
       " 'updateTime': 1681713564427,\n",
       " 'isWorking': True,\n",
       " 'workingTime': 1681713564427,\n",
       " 'origQuoteOrderQty': '0.00000000',\n",
       " 'selfTradePreventionMode': 'NONE'}"
      ]
     },
     "execution_count": 19,
     "metadata": {},
     "output_type": "execute_result"
    }
   ],
   "source": [
    "order"
   ]
  },
  {
   "cell_type": "code",
   "execution_count": 20,
   "metadata": {},
   "outputs": [],
   "source": [
    "from binance import BinanceSocketManager"
   ]
  },
  {
   "cell_type": "code",
   "execution_count": 21,
   "metadata": {},
   "outputs": [],
   "source": [
    "bsm = BinanceSocketManager(client)\n",
    "socket = bsm.trade_socket('BTCBUSD')"
   ]
  },
  {
   "cell_type": "code",
   "execution_count": 24,
   "metadata": {},
   "outputs": [
    {
     "name": "stdout",
     "output_type": "stream",
     "text": [
      "{'e': 'trade', 'E': 1681716265598, 's': 'BTCBUSD', 't': 777345, 'p': '29937.19000000', 'q': '0.00334200', 'b': 3760111, 'a': 3760261, 'T': 1681716265598, 'm': True, 'M': True}\n"
     ]
    }
   ],
   "source": [
    "await socket.__aenter__()\n",
    "msg = await socket.recv()\n",
    "print(msg)"
   ]
  }
 ],
 "metadata": {
  "kernelspec": {
   "display_name": "Kedro (vectorbt_tester)",
   "language": "python",
   "name": "kedro_vectorbt_tester"
  },
  "language_info": {
   "codemirror_mode": {
    "name": "ipython",
    "version": 3
   },
   "file_extension": ".py",
   "mimetype": "text/x-python",
   "name": "python",
   "nbconvert_exporter": "python",
   "pygments_lexer": "ipython3",
   "version": "3.8.16"
  },
  "orig_nbformat": 4
 },
 "nbformat": 4,
 "nbformat_minor": 2
}
