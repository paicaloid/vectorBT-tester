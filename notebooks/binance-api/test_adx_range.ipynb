{
 "cells": [
  {
   "cell_type": "code",
   "execution_count": 1,
   "metadata": {},
   "outputs": [
    {
     "data": {
      "text/html": [
       "<pre style=\"white-space:pre;overflow-x:auto;line-height:normal;font-family:Menlo,'DejaVu Sans Mono',consolas,'Courier New',monospace\"><span style=\"color: #7fbfbf; text-decoration-color: #7fbfbf\">[04/12/23 13:39:11] </span><span style=\"color: #800000; text-decoration-color: #800000\">WARNING </span> c:\\Users\\natta\\anaconda3\\envs\\vbt-pro\\lib\\site-packages\\quantstats\\rep <a href=\"file://c:\\Users\\natta\\anaconda3\\envs\\vbt-pro\\lib\\warnings.py\" target=\"_blank\"><span style=\"color: #7f7f7f; text-decoration-color: #7f7f7f\">warnings.py</span></a><span style=\"color: #7f7f7f; text-decoration-color: #7f7f7f\">:</span><a href=\"file://c:\\Users\\natta\\anaconda3\\envs\\vbt-pro\\lib\\warnings.py#109\" target=\"_blank\"><span style=\"color: #7f7f7f; text-decoration-color: #7f7f7f\">109</span></a>\n",
       "<span style=\"color: #7fbfbf; text-decoration-color: #7fbfbf\">                    </span>         orts.py:<span style=\"color: #008080; text-decoration-color: #008080; font-weight: bold\">37</span>: DeprecationWarning: Importing display from                 <span style=\"color: #7f7f7f; text-decoration-color: #7f7f7f\">               </span>\n",
       "<span style=\"color: #7fbfbf; text-decoration-color: #7fbfbf\">                    </span>         IPython.core.display is deprecated since IPython <span style=\"color: #008080; text-decoration-color: #008080; font-weight: bold\">7.14</span>, please import   <span style=\"color: #7f7f7f; text-decoration-color: #7f7f7f\">               </span>\n",
       "<span style=\"color: #7fbfbf; text-decoration-color: #7fbfbf\">                    </span>         from IPython display                                                   <span style=\"color: #7f7f7f; text-decoration-color: #7f7f7f\">               </span>\n",
       "<span style=\"color: #7fbfbf; text-decoration-color: #7fbfbf\">                    </span>           from IPython.core.display import <span style=\"font-weight: bold\">(</span>                                   <span style=\"color: #7f7f7f; text-decoration-color: #7f7f7f\">               </span>\n",
       "<span style=\"color: #7fbfbf; text-decoration-color: #7fbfbf\">                    </span>                                                                                <span style=\"color: #7f7f7f; text-decoration-color: #7f7f7f\">               </span>\n",
       "</pre>\n"
      ],
      "text/plain": [
       "\u001b[2;36m[04/12/23 13:39:11]\u001b[0m\u001b[2;36m \u001b[0m\u001b[31mWARNING \u001b[0m c:\\Users\\natta\\anaconda3\\envs\\vbt-pro\\lib\\site-packages\\quantstats\\rep \u001b]8;id=513993;file://c:\\Users\\natta\\anaconda3\\envs\\vbt-pro\\lib\\warnings.py\u001b\\\u001b[2mwarnings.py\u001b[0m\u001b]8;;\u001b\\\u001b[2m:\u001b[0m\u001b]8;id=484241;file://c:\\Users\\natta\\anaconda3\\envs\\vbt-pro\\lib\\warnings.py#109\u001b\\\u001b[2m109\u001b[0m\u001b]8;;\u001b\\\n",
       "\u001b[2;36m                    \u001b[0m         orts.py:\u001b[1;36m37\u001b[0m: DeprecationWarning: Importing display from                 \u001b[2m               \u001b[0m\n",
       "\u001b[2;36m                    \u001b[0m         IPython.core.display is deprecated since IPython \u001b[1;36m7.14\u001b[0m, please import   \u001b[2m               \u001b[0m\n",
       "\u001b[2;36m                    \u001b[0m         from IPython display                                                   \u001b[2m               \u001b[0m\n",
       "\u001b[2;36m                    \u001b[0m           from IPython.core.display import \u001b[1m(\u001b[0m                                   \u001b[2m               \u001b[0m\n",
       "\u001b[2;36m                    \u001b[0m                                                                                \u001b[2m               \u001b[0m\n"
      ]
     },
     "metadata": {},
     "output_type": "display_data"
    },
    {
     "data": {
      "text/html": [
       "<pre style=\"white-space:pre;overflow-x:auto;line-height:normal;font-family:Menlo,'DejaVu Sans Mono',consolas,'Courier New',monospace\"><span style=\"color: #7fbfbf; text-decoration-color: #7fbfbf\">                    </span><span style=\"color: #800000; text-decoration-color: #800000\">WARNING </span> c:\\Users\\natta\\anaconda3\\envs\\vbt-pro\\lib\\site-packages\\quantstats\\uti <a href=\"file://c:\\Users\\natta\\anaconda3\\envs\\vbt-pro\\lib\\warnings.py\" target=\"_blank\"><span style=\"color: #7f7f7f; text-decoration-color: #7f7f7f\">warnings.py</span></a><span style=\"color: #7f7f7f; text-decoration-color: #7f7f7f\">:</span><a href=\"file://c:\\Users\\natta\\anaconda3\\envs\\vbt-pro\\lib\\warnings.py#109\" target=\"_blank\"><span style=\"color: #7f7f7f; text-decoration-color: #7f7f7f\">109</span></a>\n",
       "<span style=\"color: #7fbfbf; text-decoration-color: #7fbfbf\">                    </span>         ls.py:<span style=\"color: #008080; text-decoration-color: #008080; font-weight: bold\">297</span>: DeprecationWarning: `<span style=\"color: #800080; text-decoration-color: #800080; font-weight: bold\">magic</span><span style=\"font-weight: bold\">(</span><span style=\"color: #808000; text-decoration-color: #808000\">...</span><span style=\"font-weight: bold\">)</span>` is deprecated since        <span style=\"color: #7f7f7f; text-decoration-color: #7f7f7f\">               </span>\n",
       "<span style=\"color: #7fbfbf; text-decoration-color: #7fbfbf\">                    </span>         IPython <span style=\"color: #008080; text-decoration-color: #008080; font-weight: bold\">0.13</span> <span style=\"font-weight: bold\">(</span>warning added in <span style=\"color: #008080; text-decoration-color: #008080; font-weight: bold\">8.1</span><span style=\"font-weight: bold\">)</span>, use <span style=\"color: #800080; text-decoration-color: #800080; font-weight: bold\">run_line_magic</span><span style=\"font-weight: bold\">(</span>magic_name,    <span style=\"color: #7f7f7f; text-decoration-color: #7f7f7f\">               </span>\n",
       "<span style=\"color: #7fbfbf; text-decoration-color: #7fbfbf\">                    </span>         parameter_s<span style=\"font-weight: bold\">)</span>.                                                          <span style=\"color: #7f7f7f; text-decoration-color: #7f7f7f\">               </span>\n",
       "<span style=\"color: #7fbfbf; text-decoration-color: #7fbfbf\">                    </span>           <span style=\"color: #800080; text-decoration-color: #800080; font-weight: bold\">get_ipython</span><span style=\"font-weight: bold\">()</span><span style=\"color: #800080; text-decoration-color: #800080; font-weight: bold\">.magic</span><span style=\"font-weight: bold\">(</span><span style=\"color: #008000; text-decoration-color: #008000\">\"matplotlib inline\"</span><span style=\"font-weight: bold\">)</span>                             <span style=\"color: #7f7f7f; text-decoration-color: #7f7f7f\">               </span>\n",
       "<span style=\"color: #7fbfbf; text-decoration-color: #7fbfbf\">                    </span>                                                                                <span style=\"color: #7f7f7f; text-decoration-color: #7f7f7f\">               </span>\n",
       "</pre>\n"
      ],
      "text/plain": [
       "\u001b[2;36m                   \u001b[0m\u001b[2;36m \u001b[0m\u001b[31mWARNING \u001b[0m c:\\Users\\natta\\anaconda3\\envs\\vbt-pro\\lib\\site-packages\\quantstats\\uti \u001b]8;id=852902;file://c:\\Users\\natta\\anaconda3\\envs\\vbt-pro\\lib\\warnings.py\u001b\\\u001b[2mwarnings.py\u001b[0m\u001b]8;;\u001b\\\u001b[2m:\u001b[0m\u001b]8;id=399485;file://c:\\Users\\natta\\anaconda3\\envs\\vbt-pro\\lib\\warnings.py#109\u001b\\\u001b[2m109\u001b[0m\u001b]8;;\u001b\\\n",
       "\u001b[2;36m                    \u001b[0m         ls.py:\u001b[1;36m297\u001b[0m: DeprecationWarning: `\u001b[1;35mmagic\u001b[0m\u001b[1m(\u001b[0m\u001b[33m...\u001b[0m\u001b[1m)\u001b[0m` is deprecated since        \u001b[2m               \u001b[0m\n",
       "\u001b[2;36m                    \u001b[0m         IPython \u001b[1;36m0.13\u001b[0m \u001b[1m(\u001b[0mwarning added in \u001b[1;36m8.1\u001b[0m\u001b[1m)\u001b[0m, use \u001b[1;35mrun_line_magic\u001b[0m\u001b[1m(\u001b[0mmagic_name,    \u001b[2m               \u001b[0m\n",
       "\u001b[2;36m                    \u001b[0m         parameter_s\u001b[1m)\u001b[0m.                                                          \u001b[2m               \u001b[0m\n",
       "\u001b[2;36m                    \u001b[0m           \u001b[1;35mget_ipython\u001b[0m\u001b[1m(\u001b[0m\u001b[1m)\u001b[0m\u001b[1;35m.magic\u001b[0m\u001b[1m(\u001b[0m\u001b[32m\"matplotlib inline\"\u001b[0m\u001b[1m)\u001b[0m                             \u001b[2m               \u001b[0m\n",
       "\u001b[2;36m                    \u001b[0m                                                                                \u001b[2m               \u001b[0m\n"
      ]
     },
     "metadata": {},
     "output_type": "display_data"
    }
   ],
   "source": [
    "import vectorbtpro as vbt\n",
    "\n",
    "from indicators.adx import ADX\n",
    "\n",
    "import warnings\n",
    "warnings.simplefilter('ignore')"
   ]
  },
  {
   "cell_type": "code",
   "execution_count": 5,
   "metadata": {},
   "outputs": [
    {
     "data": {
      "application/vnd.jupyter.widget-view+json": {
       "model_id": "b798a3199f5745b19eafff3dd635e3ab",
       "version_major": 2,
       "version_minor": 0
      },
      "text/plain": [
       "0it [00:00, ?it/s]"
      ]
     },
     "metadata": {},
     "output_type": "display_data"
    },
    {
     "data": {
      "text/html": [
       "<pre style=\"white-space:pre;overflow-x:auto;line-height:normal;font-family:Menlo,'DejaVu Sans Mono',consolas,'Courier New',monospace\"><span style=\"color: #800000; text-decoration-color: #800000\">╭─────────────────────────────── </span><span style=\"color: #800000; text-decoration-color: #800000; font-weight: bold\">Traceback </span><span style=\"color: #bf7f7f; text-decoration-color: #bf7f7f; font-weight: bold\">(most recent call last)</span><span style=\"color: #800000; text-decoration-color: #800000\"> ────────────────────────────────╮</span>\n",
       "<span style=\"color: #800000; text-decoration-color: #800000\">│</span> in <span style=\"color: #00ff00; text-decoration-color: #00ff00\">&lt;module&gt;</span>:<span style=\"color: #0000ff; text-decoration-color: #0000ff\">1</span>                                                                                    <span style=\"color: #800000; text-decoration-color: #800000\">│</span>\n",
       "<span style=\"color: #800000; text-decoration-color: #800000\">│</span>                                                                                                  <span style=\"color: #800000; text-decoration-color: #800000\">│</span>\n",
       "<span style=\"color: #800000; text-decoration-color: #800000\">│</span> <span style=\"color: #800000; text-decoration-color: #800000\">❱ </span>1 data = vbt.BinanceData.fetch(                                                                <span style=\"color: #800000; text-decoration-color: #800000\">│</span>\n",
       "<span style=\"color: #800000; text-decoration-color: #800000\">│</span>   <span style=\"color: #7f7f7f; text-decoration-color: #7f7f7f\">2 │   </span><span style=\"color: #808000; text-decoration-color: #808000\">\"BTCUSDT\"</span>,                                                                               <span style=\"color: #800000; text-decoration-color: #800000\">│</span>\n",
       "<span style=\"color: #800000; text-decoration-color: #800000\">│</span>   <span style=\"color: #7f7f7f; text-decoration-color: #7f7f7f\">3 │   # start=\"2023-04-11 12:00:00\",</span>                                                           <span style=\"color: #800000; text-decoration-color: #800000\">│</span>\n",
       "<span style=\"color: #800000; text-decoration-color: #800000\">│</span>   <span style=\"color: #7f7f7f; text-decoration-color: #7f7f7f\">4 │   </span>end=<span style=\"color: #808000; text-decoration-color: #808000\">\"2023-04-11 16:13:00\"</span>,                                                               <span style=\"color: #800000; text-decoration-color: #800000\">│</span>\n",
       "<span style=\"color: #800000; text-decoration-color: #800000\">│</span>                                                                                                  <span style=\"color: #800000; text-decoration-color: #800000\">│</span>\n",
       "<span style=\"color: #800000; text-decoration-color: #800000\">│</span> <span style=\"color: #808000; text-decoration-color: #808000\">c:\\Users\\natta\\anaconda3\\envs\\vbt-pro\\lib\\site-packages\\vectorbtpro\\data\\base.py</span>:<span style=\"color: #0000ff; text-decoration-color: #0000ff\">900</span> in <span style=\"color: #00ff00; text-decoration-color: #00ff00\">fetch</span>    <span style=\"color: #800000; text-decoration-color: #800000\">│</span>\n",
       "<span style=\"color: #800000; text-decoration-color: #800000\">│</span>                                                                                                  <span style=\"color: #800000; text-decoration-color: #800000\">│</span>\n",
       "<span style=\"color: #800000; text-decoration-color: #800000\">│</span> <span style=\"color: #808000; text-decoration-color: #808000\">c:\\Users\\natta\\anaconda3\\envs\\vbt-pro\\lib\\site-packages\\vectorbtpro\\utils\\execution.py</span>:<span style=\"color: #0000ff; text-decoration-color: #0000ff\">716</span> in    <span style=\"color: #800000; text-decoration-color: #800000\">│</span>\n",
       "<span style=\"color: #800000; text-decoration-color: #800000\">│</span> <span style=\"color: #00ff00; text-decoration-color: #00ff00\">execute</span>                                                                                          <span style=\"color: #800000; text-decoration-color: #800000\">│</span>\n",
       "<span style=\"color: #800000; text-decoration-color: #800000\">│</span>                                                                                                  <span style=\"color: #800000; text-decoration-color: #800000\">│</span>\n",
       "<span style=\"color: #800000; text-decoration-color: #800000\">│</span> <span style=\"color: #808000; text-decoration-color: #808000\">c:\\Users\\natta\\anaconda3\\envs\\vbt-pro\\lib\\site-packages\\vectorbtpro\\utils\\execution.py</span>:<span style=\"color: #0000ff; text-decoration-color: #0000ff\">706</span> in    <span style=\"color: #800000; text-decoration-color: #800000\">│</span>\n",
       "<span style=\"color: #800000; text-decoration-color: #800000\">│</span> <span style=\"color: #00ff00; text-decoration-color: #00ff00\">_execute</span>                                                                                         <span style=\"color: #800000; text-decoration-color: #800000\">│</span>\n",
       "<span style=\"color: #800000; text-decoration-color: #800000\">│</span>                                                                                                  <span style=\"color: #800000; text-decoration-color: #800000\">│</span>\n",
       "<span style=\"color: #800000; text-decoration-color: #800000\">│</span> <span style=\"color: #808000; text-decoration-color: #808000\">c:\\Users\\natta\\anaconda3\\envs\\vbt-pro\\lib\\site-packages\\vectorbtpro\\utils\\execution.py</span>:<span style=\"color: #0000ff; text-decoration-color: #0000ff\">152</span> in    <span style=\"color: #800000; text-decoration-color: #800000\">│</span>\n",
       "<span style=\"color: #800000; text-decoration-color: #800000\">│</span> <span style=\"color: #00ff00; text-decoration-color: #00ff00\">execute</span>                                                                                          <span style=\"color: #800000; text-decoration-color: #800000\">│</span>\n",
       "<span style=\"color: #800000; text-decoration-color: #800000\">│</span>                                                                                                  <span style=\"color: #800000; text-decoration-color: #800000\">│</span>\n",
       "<span style=\"color: #800000; text-decoration-color: #800000\">│</span> <span style=\"color: #808000; text-decoration-color: #808000\">c:\\Users\\natta\\anaconda3\\envs\\vbt-pro\\lib\\site-packages\\vectorbtpro\\data\\base.py</span>:<span style=\"color: #0000ff; text-decoration-color: #0000ff\">776</span> in          <span style=\"color: #800000; text-decoration-color: #800000\">│</span>\n",
       "<span style=\"color: #800000; text-decoration-color: #800000\">│</span> <span style=\"color: #00ff00; text-decoration-color: #00ff00\">try_fetch_symbol</span>                                                                                 <span style=\"color: #800000; text-decoration-color: #800000\">│</span>\n",
       "<span style=\"color: #800000; text-decoration-color: #800000\">│</span>                                                                                                  <span style=\"color: #800000; text-decoration-color: #800000\">│</span>\n",
       "<span style=\"color: #800000; text-decoration-color: #800000\">│</span> <span style=\"color: #808000; text-decoration-color: #808000\">c:\\Users\\natta\\anaconda3\\envs\\vbt-pro\\lib\\site-packages\\vectorbtpro\\data\\custom.py</span>:<span style=\"color: #0000ff; text-decoration-color: #0000ff\">1596</span> in       <span style=\"color: #800000; text-decoration-color: #800000\">│</span>\n",
       "<span style=\"color: #800000; text-decoration-color: #800000\">│</span> <span style=\"color: #00ff00; text-decoration-color: #00ff00\">fetch_symbol</span>                                                                                     <span style=\"color: #800000; text-decoration-color: #800000\">│</span>\n",
       "<span style=\"color: #800000; text-decoration-color: #800000\">╰──────────────────────────────────────────────────────────────────────────────────────────────────╯</span>\n",
       "<span style=\"color: #ff0000; text-decoration-color: #ff0000; font-weight: bold\">KeyboardInterrupt</span>\n",
       "</pre>\n"
      ],
      "text/plain": [
       "\u001b[31m╭─\u001b[0m\u001b[31m──────────────────────────────\u001b[0m\u001b[31m \u001b[0m\u001b[1;31mTraceback \u001b[0m\u001b[1;2;31m(most recent call last)\u001b[0m\u001b[31m \u001b[0m\u001b[31m───────────────────────────────\u001b[0m\u001b[31m─╮\u001b[0m\n",
       "\u001b[31m│\u001b[0m in \u001b[92m<module>\u001b[0m:\u001b[94m1\u001b[0m                                                                                    \u001b[31m│\u001b[0m\n",
       "\u001b[31m│\u001b[0m                                                                                                  \u001b[31m│\u001b[0m\n",
       "\u001b[31m│\u001b[0m \u001b[31m❱ \u001b[0m1 data = vbt.BinanceData.fetch(                                                                \u001b[31m│\u001b[0m\n",
       "\u001b[31m│\u001b[0m   \u001b[2m2 \u001b[0m\u001b[2m│   \u001b[0m\u001b[33m\"\u001b[0m\u001b[33mBTCUSDT\u001b[0m\u001b[33m\"\u001b[0m,                                                                               \u001b[31m│\u001b[0m\n",
       "\u001b[31m│\u001b[0m   \u001b[2m3 \u001b[0m\u001b[2m│   \u001b[0m\u001b[2m# start=\"2023-04-11 12:00:00\",\u001b[0m                                                           \u001b[31m│\u001b[0m\n",
       "\u001b[31m│\u001b[0m   \u001b[2m4 \u001b[0m\u001b[2m│   \u001b[0mend=\u001b[33m\"\u001b[0m\u001b[33m2023-04-11 16:13:00\u001b[0m\u001b[33m\"\u001b[0m,                                                               \u001b[31m│\u001b[0m\n",
       "\u001b[31m│\u001b[0m                                                                                                  \u001b[31m│\u001b[0m\n",
       "\u001b[31m│\u001b[0m \u001b[33mc:\\Users\\natta\\anaconda3\\envs\\vbt-pro\\lib\\site-packages\\vectorbtpro\\data\\base.py\u001b[0m:\u001b[94m900\u001b[0m in \u001b[92mfetch\u001b[0m    \u001b[31m│\u001b[0m\n",
       "\u001b[31m│\u001b[0m                                                                                                  \u001b[31m│\u001b[0m\n",
       "\u001b[31m│\u001b[0m \u001b[33mc:\\Users\\natta\\anaconda3\\envs\\vbt-pro\\lib\\site-packages\\vectorbtpro\\utils\\execution.py\u001b[0m:\u001b[94m716\u001b[0m in    \u001b[31m│\u001b[0m\n",
       "\u001b[31m│\u001b[0m \u001b[92mexecute\u001b[0m                                                                                          \u001b[31m│\u001b[0m\n",
       "\u001b[31m│\u001b[0m                                                                                                  \u001b[31m│\u001b[0m\n",
       "\u001b[31m│\u001b[0m \u001b[33mc:\\Users\\natta\\anaconda3\\envs\\vbt-pro\\lib\\site-packages\\vectorbtpro\\utils\\execution.py\u001b[0m:\u001b[94m706\u001b[0m in    \u001b[31m│\u001b[0m\n",
       "\u001b[31m│\u001b[0m \u001b[92m_execute\u001b[0m                                                                                         \u001b[31m│\u001b[0m\n",
       "\u001b[31m│\u001b[0m                                                                                                  \u001b[31m│\u001b[0m\n",
       "\u001b[31m│\u001b[0m \u001b[33mc:\\Users\\natta\\anaconda3\\envs\\vbt-pro\\lib\\site-packages\\vectorbtpro\\utils\\execution.py\u001b[0m:\u001b[94m152\u001b[0m in    \u001b[31m│\u001b[0m\n",
       "\u001b[31m│\u001b[0m \u001b[92mexecute\u001b[0m                                                                                          \u001b[31m│\u001b[0m\n",
       "\u001b[31m│\u001b[0m                                                                                                  \u001b[31m│\u001b[0m\n",
       "\u001b[31m│\u001b[0m \u001b[33mc:\\Users\\natta\\anaconda3\\envs\\vbt-pro\\lib\\site-packages\\vectorbtpro\\data\\base.py\u001b[0m:\u001b[94m776\u001b[0m in          \u001b[31m│\u001b[0m\n",
       "\u001b[31m│\u001b[0m \u001b[92mtry_fetch_symbol\u001b[0m                                                                                 \u001b[31m│\u001b[0m\n",
       "\u001b[31m│\u001b[0m                                                                                                  \u001b[31m│\u001b[0m\n",
       "\u001b[31m│\u001b[0m \u001b[33mc:\\Users\\natta\\anaconda3\\envs\\vbt-pro\\lib\\site-packages\\vectorbtpro\\data\\custom.py\u001b[0m:\u001b[94m1596\u001b[0m in       \u001b[31m│\u001b[0m\n",
       "\u001b[31m│\u001b[0m \u001b[92mfetch_symbol\u001b[0m                                                                                     \u001b[31m│\u001b[0m\n",
       "\u001b[31m╰──────────────────────────────────────────────────────────────────────────────────────────────────╯\u001b[0m\n",
       "\u001b[1;91mKeyboardInterrupt\u001b[0m\n"
      ]
     },
     "metadata": {},
     "output_type": "display_data"
    }
   ],
   "source": [
    "data = vbt.BinanceData.fetch(\n",
    "    \"BTCUSDT\",\n",
    "    # start=\"2023-04-11 12:00:00\",\n",
    "    end=\"2023-04-11 16:13:00\",\n",
    "    timeframe=\"1 minutes\",\n",
    "    tz=\"Asia/Bangkok\",\n",
    "    limit=250\n",
    ")"
   ]
  },
  {
   "cell_type": "code",
   "execution_count": 3,
   "metadata": {},
   "outputs": [
    {
     "name": "stdout",
     "output_type": "stream",
     "text": [
      "<class 'pandas.core.frame.DataFrame'>\n",
      "DatetimeIndex: 253 entries, 2023-04-11 12:00:00+07:00 to 2023-04-11 16:12:00+07:00\n",
      "Freq: T\n",
      "Data columns (total 9 columns):\n",
      " #   Column              Non-Null Count  Dtype  \n",
      "---  ------              --------------  -----  \n",
      " 0   Open                253 non-null    float64\n",
      " 1   High                253 non-null    float64\n",
      " 2   Low                 253 non-null    float64\n",
      " 3   Close               253 non-null    float64\n",
      " 4   Volume              253 non-null    float64\n",
      " 5   Quote volume        253 non-null    float64\n",
      " 6   Trade count         253 non-null    int32  \n",
      " 7   Taker base volume   253 non-null    float64\n",
      " 8   Taker quote volume  253 non-null    float64\n",
      "dtypes: float64(8), int32(1)\n",
      "memory usage: 18.8 KB\n"
     ]
    }
   ],
   "source": [
    "data.data[\"BTCUSDT\"].info()"
   ]
  },
  {
   "cell_type": "code",
   "execution_count": 39,
   "metadata": {},
   "outputs": [],
   "source": [
    "adx_base = 20.3683"
   ]
  },
  {
   "cell_type": "code",
   "execution_count": 7,
   "metadata": {},
   "outputs": [],
   "source": [
    "adx, plusDI, minusDI = ADX(high=data.get(\"High\"), low=data.get(\"Low\"), close=data.get(\"Close\"), period=14)"
   ]
  },
  {
   "cell_type": "code",
   "execution_count": 41,
   "metadata": {},
   "outputs": [
    {
     "name": "stdout",
     "output_type": "stream",
     "text": [
      "@ index 1 ADX: 20.3683 raw: 20.368304814688695\n",
      "@ index 2 ADX: 20.3683 raw: 20.36830489185348\n",
      "@ index 3 ADX: 20.3683 raw: 20.368304975230416\n",
      "@ index 4 ADX: 20.3683 raw: 20.36831113808968\n",
      "@ index 5 ADX: 20.3683 raw: 20.368310556029314\n",
      "@ index 6 ADX: 20.3683 raw: 20.36831367388668\n",
      "@ index 7 ADX: 20.3683 raw: 20.368315574829136\n",
      "@ index 8 ADX: 20.3683 raw: 20.368317253098137\n",
      "@ index 9 ADX: 20.3683 raw: 20.36833008311134\n",
      "@ index 10 ADX: 20.3683 raw: 20.368329920278388\n",
      "@ index 11 ADX: 20.3683 raw: 20.368329980373023\n",
      "@ index 12 ADX: 20.3683 raw: 20.36833896909221\n",
      "@ index 13 ADX: 20.3683 raw: 20.36833904644189\n",
      "@ index 14 ADX: 20.3683 raw: 20.36834225183185\n",
      "@ index 15 ADX: 20.3683 raw: 20.3683440368316\n",
      "@ index 16 ADX: 20.3683 raw: 20.368342595340803\n",
      "@ index 17 ADX: 20.3683 raw: 20.368341237794432\n"
     ]
    },
    {
     "data": {
      "text/html": [
       "<pre style=\"white-space:pre;overflow-x:auto;line-height:normal;font-family:Menlo,'DejaVu Sans Mono',consolas,'Courier New',monospace\"><span style=\"color: #800000; text-decoration-color: #800000\">╭─────────────────────────────── </span><span style=\"color: #800000; text-decoration-color: #800000; font-weight: bold\">Traceback </span><span style=\"color: #bf7f7f; text-decoration-color: #bf7f7f; font-weight: bold\">(most recent call last)</span><span style=\"color: #800000; text-decoration-color: #800000\"> ────────────────────────────────╮</span>\n",
       "<span style=\"color: #800000; text-decoration-color: #800000\">│</span> in <span style=\"color: #00ff00; text-decoration-color: #00ff00\">&lt;module&gt;</span>:<span style=\"color: #0000ff; text-decoration-color: #0000ff\">2</span>                                                                                    <span style=\"color: #800000; text-decoration-color: #800000\">│</span>\n",
       "<span style=\"color: #800000; text-decoration-color: #800000\">│</span>                                                                                                  <span style=\"color: #800000; text-decoration-color: #800000\">│</span>\n",
       "<span style=\"color: #800000; text-decoration-color: #800000\">│</span>   <span style=\"color: #7f7f7f; text-decoration-color: #7f7f7f\"> 1 </span><span style=\"color: #0000ff; text-decoration-color: #0000ff\">for</span> i <span style=\"color: #ff00ff; text-decoration-color: #ff00ff\">in</span> <span style=\"color: #00ffff; text-decoration-color: #00ffff\">range</span>(<span style=\"color: #0000ff; text-decoration-color: #0000ff\">1</span>, <span style=\"color: #00ffff; text-decoration-color: #00ffff\">len</span>(data.data[<span style=\"color: #808000; text-decoration-color: #808000\">\"BTCUSDT\"</span>]) - <span style=\"color: #0000ff; text-decoration-color: #0000ff\">10</span>):                                          <span style=\"color: #800000; text-decoration-color: #800000\">│</span>\n",
       "<span style=\"color: #800000; text-decoration-color: #800000\">│</span> <span style=\"color: #800000; text-decoration-color: #800000\">❱ </span> 2 <span style=\"color: #7f7f7f; text-decoration-color: #7f7f7f\">│   </span>adx, _, _ = ADX(                                                                        <span style=\"color: #800000; text-decoration-color: #800000\">│</span>\n",
       "<span style=\"color: #800000; text-decoration-color: #800000\">│</span>   <span style=\"color: #7f7f7f; text-decoration-color: #7f7f7f\"> 3 │   │   </span>high=data.get(<span style=\"color: #808000; text-decoration-color: #808000\">\"High\"</span>).iloc[i:],                                                     <span style=\"color: #800000; text-decoration-color: #800000\">│</span>\n",
       "<span style=\"color: #800000; text-decoration-color: #800000\">│</span>   <span style=\"color: #7f7f7f; text-decoration-color: #7f7f7f\"> 4 │   │   </span>low=data.get(<span style=\"color: #808000; text-decoration-color: #808000\">\"Low\"</span>).iloc[i:],                                                       <span style=\"color: #800000; text-decoration-color: #800000\">│</span>\n",
       "<span style=\"color: #800000; text-decoration-color: #800000\">│</span>   <span style=\"color: #7f7f7f; text-decoration-color: #7f7f7f\"> 5 │   │   </span>close=data.get(<span style=\"color: #808000; text-decoration-color: #808000\">\"Close\"</span>).iloc[i:],                                                   <span style=\"color: #800000; text-decoration-color: #800000\">│</span>\n",
       "<span style=\"color: #800000; text-decoration-color: #800000\">│</span>                                                                                                  <span style=\"color: #800000; text-decoration-color: #800000\">│</span>\n",
       "<span style=\"color: #800000; text-decoration-color: #800000\">│</span> <span style=\"color: #808000; text-decoration-color: #808000\">c:\\Users\\natta\\git\\vectorBT-tester\\notebooks\\binance-api\\indicators\\adx.py</span>:<span style=\"color: #0000ff; text-decoration-color: #0000ff\">45</span> in <span style=\"color: #00ff00; text-decoration-color: #00ff00\">ADX</span>             <span style=\"color: #800000; text-decoration-color: #800000\">│</span>\n",
       "<span style=\"color: #800000; text-decoration-color: #800000\">│</span>                                                                                                  <span style=\"color: #800000; text-decoration-color: #800000\">│</span>\n",
       "<span style=\"color: #800000; text-decoration-color: #800000\">│</span>   <span style=\"color: #7f7f7f; text-decoration-color: #7f7f7f\">42 │   </span>downMove = - ta_change(low)                                                             <span style=\"color: #800000; text-decoration-color: #800000\">│</span>\n",
       "<span style=\"color: #800000; text-decoration-color: #800000\">│</span>   <span style=\"color: #7f7f7f; text-decoration-color: #7f7f7f\">43 │   </span>plusDM = calculate_plus_dm(upMove, downMove)                                            <span style=\"color: #800000; text-decoration-color: #800000\">│</span>\n",
       "<span style=\"color: #800000; text-decoration-color: #800000\">│</span>   <span style=\"color: #7f7f7f; text-decoration-color: #7f7f7f\">44 │   </span>minusDM = calculate_minus_dm(upMove, downMove)                                          <span style=\"color: #800000; text-decoration-color: #800000\">│</span>\n",
       "<span style=\"color: #800000; text-decoration-color: #800000\">│</span> <span style=\"color: #800000; text-decoration-color: #800000\">❱ </span>45 <span style=\"color: #7f7f7f; text-decoration-color: #7f7f7f\">│   </span>trur = true_range_rma(high, low, close, period)                                         <span style=\"color: #800000; text-decoration-color: #800000\">│</span>\n",
       "<span style=\"color: #800000; text-decoration-color: #800000\">│</span>   <span style=\"color: #7f7f7f; text-decoration-color: #7f7f7f\">46 │   </span>dx, plusDI, minusDI = DX(plusDM, minusDM, trur, period)                                 <span style=\"color: #800000; text-decoration-color: #800000\">│</span>\n",
       "<span style=\"color: #800000; text-decoration-color: #800000\">│</span>   <span style=\"color: #7f7f7f; text-decoration-color: #7f7f7f\">47 │   </span>adx = vbt.pandas_ta(<span style=\"color: #808000; text-decoration-color: #808000\">\"RMA\"</span>).run(dx, length=<span style=\"color: #0000ff; text-decoration-color: #0000ff\">14</span>)                                           <span style=\"color: #800000; text-decoration-color: #800000\">│</span>\n",
       "<span style=\"color: #800000; text-decoration-color: #800000\">│</span>   <span style=\"color: #7f7f7f; text-decoration-color: #7f7f7f\">48 │   </span><span style=\"color: #0000ff; text-decoration-color: #0000ff\">return</span> adx.rma, plusDI, minusDI                                                         <span style=\"color: #800000; text-decoration-color: #800000\">│</span>\n",
       "<span style=\"color: #800000; text-decoration-color: #800000\">│</span>                                                                                                  <span style=\"color: #800000; text-decoration-color: #800000\">│</span>\n",
       "<span style=\"color: #800000; text-decoration-color: #800000\">│</span> <span style=\"color: #808000; text-decoration-color: #808000\">c:\\Users\\natta\\git\\vectorBT-tester\\notebooks\\binance-api\\indicators\\adx.py</span>:<span style=\"color: #0000ff; text-decoration-color: #0000ff\">26</span> in <span style=\"color: #00ff00; text-decoration-color: #00ff00\">true_range_rma</span>  <span style=\"color: #800000; text-decoration-color: #800000\">│</span>\n",
       "<span style=\"color: #800000; text-decoration-color: #800000\">│</span>                                                                                                  <span style=\"color: #800000; text-decoration-color: #800000\">│</span>\n",
       "<span style=\"color: #800000; text-decoration-color: #800000\">│</span>   <span style=\"color: #7f7f7f; text-decoration-color: #7f7f7f\">23 </span>                                                                                            <span style=\"color: #800000; text-decoration-color: #800000\">│</span>\n",
       "<span style=\"color: #800000; text-decoration-color: #800000\">│</span>   <span style=\"color: #7f7f7f; text-decoration-color: #7f7f7f\">24 </span><span style=\"color: #0000ff; text-decoration-color: #0000ff\">def</span> <span style=\"color: #00ff00; text-decoration-color: #00ff00\">true_range_rma</span>(high: pd.Series, low: pd.Series, close: pd.Series, period: <span style=\"color: #00ffff; text-decoration-color: #00ffff\">int</span> = <span style=\"color: #0000ff; text-decoration-color: #0000ff\">14</span>)     <span style=\"color: #800000; text-decoration-color: #800000\">│</span>\n",
       "<span style=\"color: #800000; text-decoration-color: #800000\">│</span>   <span style=\"color: #7f7f7f; text-decoration-color: #7f7f7f\">25 │   </span>tr = vbt.pandas_ta(<span style=\"color: #808000; text-decoration-color: #808000\">\"TRUE_RANGE\"</span>).run(high, low, close)                                  <span style=\"color: #800000; text-decoration-color: #800000\">│</span>\n",
       "<span style=\"color: #800000; text-decoration-color: #800000\">│</span> <span style=\"color: #800000; text-decoration-color: #800000\">❱ </span>26 <span style=\"color: #7f7f7f; text-decoration-color: #7f7f7f\">│   </span>trur = vbt.pandas_ta(<span style=\"color: #808000; text-decoration-color: #808000\">\"RMA\"</span>).run(tr.truerange, length=period)                            <span style=\"color: #800000; text-decoration-color: #800000\">│</span>\n",
       "<span style=\"color: #800000; text-decoration-color: #800000\">│</span>   <span style=\"color: #7f7f7f; text-decoration-color: #7f7f7f\">27 │   </span><span style=\"color: #0000ff; text-decoration-color: #0000ff\">return</span> trur.rma                                                                         <span style=\"color: #800000; text-decoration-color: #800000\">│</span>\n",
       "<span style=\"color: #800000; text-decoration-color: #800000\">│</span>   <span style=\"color: #7f7f7f; text-decoration-color: #7f7f7f\">28 </span>                                                                                            <span style=\"color: #800000; text-decoration-color: #800000\">│</span>\n",
       "<span style=\"color: #800000; text-decoration-color: #800000\">│</span>   <span style=\"color: #7f7f7f; text-decoration-color: #7f7f7f\">29 </span><span style=\"color: #0000ff; text-decoration-color: #0000ff\">def</span> <span style=\"color: #00ff00; text-decoration-color: #00ff00\">DX</span>(plusDM: pd.Series, minusDM: pd.Series, trur: pd.Series, period: <span style=\"color: #00ffff; text-decoration-color: #00ffff\">int</span> = <span style=\"color: #0000ff; text-decoration-color: #0000ff\">14</span>) -&gt; List    <span style=\"color: #800000; text-decoration-color: #800000\">│</span>\n",
       "<span style=\"color: #800000; text-decoration-color: #800000\">│</span>                                                                                                  <span style=\"color: #800000; text-decoration-color: #800000\">│</span>\n",
       "<span style=\"color: #800000; text-decoration-color: #800000\">│</span> <span style=\"color: #808000; text-decoration-color: #808000\">c:\\Users\\natta\\anaconda3\\envs\\vbt-pro\\lib\\site-packages\\vectorbtpro\\indicators\\factory.py</span>:<span style=\"color: #0000ff; text-decoration-color: #0000ff\">13</span> in  <span style=\"color: #800000; text-decoration-color: #800000\">│</span>\n",
       "<span style=\"color: #800000; text-decoration-color: #800000\">│</span> <span style=\"color: #00ff00; text-decoration-color: #00ff00\">run</span>                                                                                              <span style=\"color: #800000; text-decoration-color: #800000\">│</span>\n",
       "<span style=\"color: #800000; text-decoration-color: #800000\">│</span>                                                                                                  <span style=\"color: #800000; text-decoration-color: #800000\">│</span>\n",
       "<span style=\"color: #800000; text-decoration-color: #800000\">│</span> <span style=\"color: #808000; text-decoration-color: #808000\">c:\\Users\\natta\\anaconda3\\envs\\vbt-pro\\lib\\site-packages\\vectorbtpro\\indicators\\factory.py</span>:<span style=\"color: #0000ff; text-decoration-color: #0000ff\">2083</span>   <span style=\"color: #800000; text-decoration-color: #800000\">│</span>\n",
       "<span style=\"color: #800000; text-decoration-color: #800000\">│</span> in <span style=\"color: #00ff00; text-decoration-color: #00ff00\">_run</span>                                                                                          <span style=\"color: #800000; text-decoration-color: #800000\">│</span>\n",
       "<span style=\"color: #800000; text-decoration-color: #800000\">│</span>                                                                                                  <span style=\"color: #800000; text-decoration-color: #800000\">│</span>\n",
       "<span style=\"color: #800000; text-decoration-color: #800000\">│</span> <span style=\"color: #808000; text-decoration-color: #808000\">c:\\Users\\natta\\anaconda3\\envs\\vbt-pro\\lib\\site-packages\\vectorbtpro\\indicators\\factory.py</span>:<span style=\"color: #0000ff; text-decoration-color: #0000ff\">1506</span>   <span style=\"color: #800000; text-decoration-color: #800000\">│</span>\n",
       "<span style=\"color: #800000; text-decoration-color: #800000\">│</span> in <span style=\"color: #00ff00; text-decoration-color: #00ff00\">__init__</span>                                                                                      <span style=\"color: #800000; text-decoration-color: #800000\">│</span>\n",
       "<span style=\"color: #800000; text-decoration-color: #800000\">│</span>                                                                                                  <span style=\"color: #800000; text-decoration-color: #800000\">│</span>\n",
       "<span style=\"color: #800000; text-decoration-color: #800000\">│</span> <span style=\"color: #808000; text-decoration-color: #808000\">c:\\Users\\natta\\anaconda3\\envs\\vbt-pro\\lib\\site-packages\\vectorbtpro\\indicators\\factory.py</span>:<span style=\"color: #0000ff; text-decoration-color: #0000ff\">1073</span>   <span style=\"color: #800000; text-decoration-color: #800000\">│</span>\n",
       "<span style=\"color: #800000; text-decoration-color: #800000\">│</span> in <span style=\"color: #00ff00; text-decoration-color: #00ff00\">__init__</span>                                                                                      <span style=\"color: #800000; text-decoration-color: #800000\">│</span>\n",
       "<span style=\"color: #800000; text-decoration-color: #800000\">│</span>                                                                                                  <span style=\"color: #800000; text-decoration-color: #800000\">│</span>\n",
       "<span style=\"color: #800000; text-decoration-color: #800000\">│</span> <span style=\"color: #808000; text-decoration-color: #808000\">c:\\Users\\natta\\anaconda3\\envs\\vbt-pro\\lib\\site-packages\\vectorbtpro\\utils\\checks.py</span>:<span style=\"color: #0000ff; text-decoration-color: #0000ff\">583</span> in       <span style=\"color: #800000; text-decoration-color: #800000\">│</span>\n",
       "<span style=\"color: #800000; text-decoration-color: #800000\">│</span> <span style=\"color: #00ff00; text-decoration-color: #00ff00\">assert_equal</span>                                                                                     <span style=\"color: #800000; text-decoration-color: #800000\">│</span>\n",
       "<span style=\"color: #800000; text-decoration-color: #800000\">╰──────────────────────────────────────────────────────────────────────────────────────────────────╯</span>\n",
       "<span style=\"color: #ff0000; text-decoration-color: #ff0000; font-weight: bold\">AssertionError: </span><span style=\"font-weight: bold\">(</span><span style=\"color: #008080; text-decoration-color: #008080; font-weight: bold\">1</span>, <span style=\"color: #008080; text-decoration-color: #008080; font-weight: bold\">1</span><span style=\"font-weight: bold\">)</span> and <span style=\"font-weight: bold\">(</span><span style=\"color: #008080; text-decoration-color: #008080; font-weight: bold\">13</span>, <span style=\"color: #008080; text-decoration-color: #008080; font-weight: bold\">1</span><span style=\"font-weight: bold\">)</span> do not match\n",
       "</pre>\n"
      ],
      "text/plain": [
       "\u001b[31m╭─\u001b[0m\u001b[31m──────────────────────────────\u001b[0m\u001b[31m \u001b[0m\u001b[1;31mTraceback \u001b[0m\u001b[1;2;31m(most recent call last)\u001b[0m\u001b[31m \u001b[0m\u001b[31m───────────────────────────────\u001b[0m\u001b[31m─╮\u001b[0m\n",
       "\u001b[31m│\u001b[0m in \u001b[92m<module>\u001b[0m:\u001b[94m2\u001b[0m                                                                                    \u001b[31m│\u001b[0m\n",
       "\u001b[31m│\u001b[0m                                                                                                  \u001b[31m│\u001b[0m\n",
       "\u001b[31m│\u001b[0m   \u001b[2m 1 \u001b[0m\u001b[94mfor\u001b[0m i \u001b[95min\u001b[0m \u001b[96mrange\u001b[0m(\u001b[94m1\u001b[0m, \u001b[96mlen\u001b[0m(data.data[\u001b[33m\"\u001b[0m\u001b[33mBTCUSDT\u001b[0m\u001b[33m\"\u001b[0m]) - \u001b[94m10\u001b[0m):                                          \u001b[31m│\u001b[0m\n",
       "\u001b[31m│\u001b[0m \u001b[31m❱ \u001b[0m 2 \u001b[2m│   \u001b[0madx, _, _ = ADX(                                                                        \u001b[31m│\u001b[0m\n",
       "\u001b[31m│\u001b[0m   \u001b[2m 3 \u001b[0m\u001b[2m│   │   \u001b[0mhigh=data.get(\u001b[33m\"\u001b[0m\u001b[33mHigh\u001b[0m\u001b[33m\"\u001b[0m).iloc[i:],                                                     \u001b[31m│\u001b[0m\n",
       "\u001b[31m│\u001b[0m   \u001b[2m 4 \u001b[0m\u001b[2m│   │   \u001b[0mlow=data.get(\u001b[33m\"\u001b[0m\u001b[33mLow\u001b[0m\u001b[33m\"\u001b[0m).iloc[i:],                                                       \u001b[31m│\u001b[0m\n",
       "\u001b[31m│\u001b[0m   \u001b[2m 5 \u001b[0m\u001b[2m│   │   \u001b[0mclose=data.get(\u001b[33m\"\u001b[0m\u001b[33mClose\u001b[0m\u001b[33m\"\u001b[0m).iloc[i:],                                                   \u001b[31m│\u001b[0m\n",
       "\u001b[31m│\u001b[0m                                                                                                  \u001b[31m│\u001b[0m\n",
       "\u001b[31m│\u001b[0m \u001b[33mc:\\Users\\natta\\git\\vectorBT-tester\\notebooks\\binance-api\\indicators\\adx.py\u001b[0m:\u001b[94m45\u001b[0m in \u001b[92mADX\u001b[0m             \u001b[31m│\u001b[0m\n",
       "\u001b[31m│\u001b[0m                                                                                                  \u001b[31m│\u001b[0m\n",
       "\u001b[31m│\u001b[0m   \u001b[2m42 \u001b[0m\u001b[2m│   \u001b[0mdownMove = - ta_change(low)                                                             \u001b[31m│\u001b[0m\n",
       "\u001b[31m│\u001b[0m   \u001b[2m43 \u001b[0m\u001b[2m│   \u001b[0mplusDM = calculate_plus_dm(upMove, downMove)                                            \u001b[31m│\u001b[0m\n",
       "\u001b[31m│\u001b[0m   \u001b[2m44 \u001b[0m\u001b[2m│   \u001b[0mminusDM = calculate_minus_dm(upMove, downMove)                                          \u001b[31m│\u001b[0m\n",
       "\u001b[31m│\u001b[0m \u001b[31m❱ \u001b[0m45 \u001b[2m│   \u001b[0mtrur = true_range_rma(high, low, close, period)                                         \u001b[31m│\u001b[0m\n",
       "\u001b[31m│\u001b[0m   \u001b[2m46 \u001b[0m\u001b[2m│   \u001b[0mdx, plusDI, minusDI = DX(plusDM, minusDM, trur, period)                                 \u001b[31m│\u001b[0m\n",
       "\u001b[31m│\u001b[0m   \u001b[2m47 \u001b[0m\u001b[2m│   \u001b[0madx = vbt.pandas_ta(\u001b[33m\"\u001b[0m\u001b[33mRMA\u001b[0m\u001b[33m\"\u001b[0m).run(dx, length=\u001b[94m14\u001b[0m)                                           \u001b[31m│\u001b[0m\n",
       "\u001b[31m│\u001b[0m   \u001b[2m48 \u001b[0m\u001b[2m│   \u001b[0m\u001b[94mreturn\u001b[0m adx.rma, plusDI, minusDI                                                         \u001b[31m│\u001b[0m\n",
       "\u001b[31m│\u001b[0m                                                                                                  \u001b[31m│\u001b[0m\n",
       "\u001b[31m│\u001b[0m \u001b[33mc:\\Users\\natta\\git\\vectorBT-tester\\notebooks\\binance-api\\indicators\\adx.py\u001b[0m:\u001b[94m26\u001b[0m in \u001b[92mtrue_range_rma\u001b[0m  \u001b[31m│\u001b[0m\n",
       "\u001b[31m│\u001b[0m                                                                                                  \u001b[31m│\u001b[0m\n",
       "\u001b[31m│\u001b[0m   \u001b[2m23 \u001b[0m                                                                                            \u001b[31m│\u001b[0m\n",
       "\u001b[31m│\u001b[0m   \u001b[2m24 \u001b[0m\u001b[94mdef\u001b[0m \u001b[92mtrue_range_rma\u001b[0m(high: pd.Series, low: pd.Series, close: pd.Series, period: \u001b[96mint\u001b[0m = \u001b[94m14\u001b[0m)     \u001b[31m│\u001b[0m\n",
       "\u001b[31m│\u001b[0m   \u001b[2m25 \u001b[0m\u001b[2m│   \u001b[0mtr = vbt.pandas_ta(\u001b[33m\"\u001b[0m\u001b[33mTRUE_RANGE\u001b[0m\u001b[33m\"\u001b[0m).run(high, low, close)                                  \u001b[31m│\u001b[0m\n",
       "\u001b[31m│\u001b[0m \u001b[31m❱ \u001b[0m26 \u001b[2m│   \u001b[0mtrur = vbt.pandas_ta(\u001b[33m\"\u001b[0m\u001b[33mRMA\u001b[0m\u001b[33m\"\u001b[0m).run(tr.truerange, length=period)                            \u001b[31m│\u001b[0m\n",
       "\u001b[31m│\u001b[0m   \u001b[2m27 \u001b[0m\u001b[2m│   \u001b[0m\u001b[94mreturn\u001b[0m trur.rma                                                                         \u001b[31m│\u001b[0m\n",
       "\u001b[31m│\u001b[0m   \u001b[2m28 \u001b[0m                                                                                            \u001b[31m│\u001b[0m\n",
       "\u001b[31m│\u001b[0m   \u001b[2m29 \u001b[0m\u001b[94mdef\u001b[0m \u001b[92mDX\u001b[0m(plusDM: pd.Series, minusDM: pd.Series, trur: pd.Series, period: \u001b[96mint\u001b[0m = \u001b[94m14\u001b[0m) -> List    \u001b[31m│\u001b[0m\n",
       "\u001b[31m│\u001b[0m                                                                                                  \u001b[31m│\u001b[0m\n",
       "\u001b[31m│\u001b[0m \u001b[33mc:\\Users\\natta\\anaconda3\\envs\\vbt-pro\\lib\\site-packages\\vectorbtpro\\indicators\\factory.py\u001b[0m:\u001b[94m13\u001b[0m in  \u001b[31m│\u001b[0m\n",
       "\u001b[31m│\u001b[0m \u001b[92mrun\u001b[0m                                                                                              \u001b[31m│\u001b[0m\n",
       "\u001b[31m│\u001b[0m                                                                                                  \u001b[31m│\u001b[0m\n",
       "\u001b[31m│\u001b[0m \u001b[33mc:\\Users\\natta\\anaconda3\\envs\\vbt-pro\\lib\\site-packages\\vectorbtpro\\indicators\\factory.py\u001b[0m:\u001b[94m2083\u001b[0m   \u001b[31m│\u001b[0m\n",
       "\u001b[31m│\u001b[0m in \u001b[92m_run\u001b[0m                                                                                          \u001b[31m│\u001b[0m\n",
       "\u001b[31m│\u001b[0m                                                                                                  \u001b[31m│\u001b[0m\n",
       "\u001b[31m│\u001b[0m \u001b[33mc:\\Users\\natta\\anaconda3\\envs\\vbt-pro\\lib\\site-packages\\vectorbtpro\\indicators\\factory.py\u001b[0m:\u001b[94m1506\u001b[0m   \u001b[31m│\u001b[0m\n",
       "\u001b[31m│\u001b[0m in \u001b[92m__init__\u001b[0m                                                                                      \u001b[31m│\u001b[0m\n",
       "\u001b[31m│\u001b[0m                                                                                                  \u001b[31m│\u001b[0m\n",
       "\u001b[31m│\u001b[0m \u001b[33mc:\\Users\\natta\\anaconda3\\envs\\vbt-pro\\lib\\site-packages\\vectorbtpro\\indicators\\factory.py\u001b[0m:\u001b[94m1073\u001b[0m   \u001b[31m│\u001b[0m\n",
       "\u001b[31m│\u001b[0m in \u001b[92m__init__\u001b[0m                                                                                      \u001b[31m│\u001b[0m\n",
       "\u001b[31m│\u001b[0m                                                                                                  \u001b[31m│\u001b[0m\n",
       "\u001b[31m│\u001b[0m \u001b[33mc:\\Users\\natta\\anaconda3\\envs\\vbt-pro\\lib\\site-packages\\vectorbtpro\\utils\\checks.py\u001b[0m:\u001b[94m583\u001b[0m in       \u001b[31m│\u001b[0m\n",
       "\u001b[31m│\u001b[0m \u001b[92massert_equal\u001b[0m                                                                                     \u001b[31m│\u001b[0m\n",
       "\u001b[31m╰──────────────────────────────────────────────────────────────────────────────────────────────────╯\u001b[0m\n",
       "\u001b[1;91mAssertionError: \u001b[0m\u001b[1m(\u001b[0m\u001b[1;36m1\u001b[0m, \u001b[1;36m1\u001b[0m\u001b[1m)\u001b[0m and \u001b[1m(\u001b[0m\u001b[1;36m13\u001b[0m, \u001b[1;36m1\u001b[0m\u001b[1m)\u001b[0m do not match\n"
      ]
     },
     "metadata": {},
     "output_type": "display_data"
    }
   ],
   "source": [
    "for i in range(1, len(data.data[\"BTCUSDT\"]) - 10):\n",
    "    adx, _, _ = ADX(\n",
    "        high=data.get(\"High\").iloc[i:],\n",
    "        low=data.get(\"Low\").iloc[i:],\n",
    "        close=data.get(\"Close\").iloc[i:],\n",
    "        period=14\n",
    "    )\n",
    "    adx_round = round(adx.iloc[-1], 4)\n",
    "    if adx_base == adx_round:\n",
    "        print(\"@ index\", i, \"ADX:\", adx_round, \"raw:\", adx.iloc[-1])\n",
    "        "
   ]
  },
  {
   "cell_type": "code",
   "execution_count": 11,
   "metadata": {},
   "outputs": [
    {
     "data": {
      "text/plain": [
       "Open time\n",
       "2023-04-11 13:31:00+07:00    30072.30\n",
       "2023-04-11 13:32:00+07:00    30065.00\n",
       "2023-04-11 13:33:00+07:00    30064.99\n",
       "2023-04-11 13:34:00+07:00    30058.86\n",
       "2023-04-11 13:35:00+07:00    30056.06\n",
       "                               ...   \n",
       "2023-04-11 16:08:00+07:00    30044.19\n",
       "2023-04-11 16:09:00+07:00    30045.68\n",
       "2023-04-11 16:10:00+07:00    30054.77\n",
       "2023-04-11 16:11:00+07:00    30059.14\n",
       "2023-04-11 16:12:00+07:00    30051.91\n",
       "Freq: T, Name: Close, Length: 162, dtype: float64"
      ]
     },
     "execution_count": 11,
     "metadata": {},
     "output_type": "execute_result"
    }
   ],
   "source": [
    "data.get(\"Close\").iloc[1:]"
   ]
  },
  {
   "cell_type": "code",
   "execution_count": 55,
   "metadata": {},
   "outputs": [
    {
     "name": "stdout",
     "output_type": "stream",
     "text": [
      "TV ADX: 20.3683\n",
      "My Fucn   : 20.368341237794432\n",
      "talib     : 22.922553740763927\n",
      "pandas_ta : 22.922569702477986\n",
      "ta        : 22.92255029692483\n"
     ]
    }
   ],
   "source": [
    "print(\"TV ADX: 20.3683\")\n",
    "index = 17\n",
    "adx, plusDI, minusDI = ADX(\n",
    "    high=data.get(\"High\").iloc[index:], \n",
    "    low=data.get(\"Low\").iloc[index:], \n",
    "    close=data.get(\"Close\").iloc[index:], \n",
    "    period=14\n",
    ")\n",
    "print(\"My Fucn   :\", adx.iloc[-1])\n",
    "\n",
    "adx_talib = vbt.talib(\"ADX\").run(\n",
    "    high=data.get(\"High\").iloc[index:], \n",
    "    low=data.get(\"Low\").iloc[index:], \n",
    "    close=data.get(\"Close\").iloc[index:],\n",
    "    timeperiod=14,\n",
    ")\n",
    "print(\"talib     :\", adx_talib.real.iloc[-1])\n",
    "\n",
    "adx_pandas_ta = vbt.pandas_ta(\"ADX\").run(\n",
    "    high=data.get(\"High\").iloc[index:], \n",
    "    low=data.get(\"Low\").iloc[index:], \n",
    "    close=data.get(\"Close\").iloc[index:],\n",
    "    length=14,\n",
    ")\n",
    "print(\"pandas_ta :\", adx_pandas_ta.adx.iloc[-1])\n",
    "\n",
    "adx_ta = vbt.ta(\"ADXIndicator\").run(\n",
    "    high=data.get(\"High\").iloc[index:], \n",
    "    low=data.get(\"Low\").iloc[index:], \n",
    "    close=data.get(\"Close\").iloc[index:],\n",
    "    window=14,\n",
    ")\n",
    "print(\"ta        :\", adx_ta.adx.iloc[-1])"
   ]
  },
  {
   "cell_type": "code",
   "execution_count": 23,
   "metadata": {},
   "outputs": [
    {
     "data": {
      "text/html": [
       "<pre style=\"white-space:pre;overflow-x:auto;line-height:normal;font-family:Menlo,'DejaVu Sans Mono',consolas,'Courier New',monospace\"><span style=\"color: #7fbfbf; text-decoration-color: #7fbfbf\">[04/12/23 11:29:21] </span><span style=\"color: #800000; text-decoration-color: #800000\">WARNING </span> c:\\Users\\natta\\anaconda3\\envs\\vbt-pro\\lib\\site-packages\\vectorbtpro\\in <a href=\"file://c:\\Users\\natta\\anaconda3\\envs\\vbt-pro\\lib\\warnings.py\" target=\"_blank\"><span style=\"color: #7f7f7f; text-decoration-color: #7f7f7f\">warnings.py</span></a><span style=\"color: #7f7f7f; text-decoration-color: #7f7f7f\">:</span><a href=\"file://c:\\Users\\natta\\anaconda3\\envs\\vbt-pro\\lib\\warnings.py#109\" target=\"_blank\"><span style=\"color: #7f7f7f; text-decoration-color: #7f7f7f\">109</span></a>\n",
       "<span style=\"color: #7fbfbf; text-decoration-color: #7fbfbf\">                    </span>         dicators\\factory.py:<span style=\"color: #008080; text-decoration-color: #008080; font-weight: bold\">2885</span>: DeprecationWarning: Flags not at the start   <span style=\"color: #7f7f7f; text-decoration-color: #7f7f7f\">               </span>\n",
       "<span style=\"color: #7fbfbf; text-decoration-color: #7fbfbf\">                    </span>         of the expression <span style=\"color: #008000; text-decoration-color: #008000\">'adx[^/]*\\\\Z(?ms)'</span>                                   <span style=\"color: #7f7f7f; text-decoration-color: #7f7f7f\">               </span>\n",
       "<span style=\"color: #7fbfbf; text-decoration-color: #7fbfbf\">                    </span>           if not <span style=\"color: #800080; text-decoration-color: #800080; font-weight: bold\">re.match</span><span style=\"font-weight: bold\">(</span><span style=\"color: #800080; text-decoration-color: #800080; font-weight: bold\">glob2re</span><span style=\"font-weight: bold\">(</span>pattern<span style=\"font-weight: bold\">)</span>, <span style=\"color: #800080; text-decoration-color: #800080; font-weight: bold\">indicator_name.split</span><span style=\"font-weight: bold\">(</span><span style=\"color: #008000; text-decoration-color: #008000\">\":\"</span><span style=\"font-weight: bold\">)[</span><span style=\"color: #008080; text-decoration-color: #008080; font-weight: bold\">1</span><span style=\"font-weight: bold\">])</span>:     <span style=\"color: #7f7f7f; text-decoration-color: #7f7f7f\">               </span>\n",
       "<span style=\"color: #7fbfbf; text-decoration-color: #7fbfbf\">                    </span>                                                                                <span style=\"color: #7f7f7f; text-decoration-color: #7f7f7f\">               </span>\n",
       "</pre>\n"
      ],
      "text/plain": [
       "\u001b[2;36m[04/12/23 11:29:21]\u001b[0m\u001b[2;36m \u001b[0m\u001b[31mWARNING \u001b[0m c:\\Users\\natta\\anaconda3\\envs\\vbt-pro\\lib\\site-packages\\vectorbtpro\\in \u001b]8;id=969330;file://c:\\Users\\natta\\anaconda3\\envs\\vbt-pro\\lib\\warnings.py\u001b\\\u001b[2mwarnings.py\u001b[0m\u001b]8;;\u001b\\\u001b[2m:\u001b[0m\u001b]8;id=642180;file://c:\\Users\\natta\\anaconda3\\envs\\vbt-pro\\lib\\warnings.py#109\u001b\\\u001b[2m109\u001b[0m\u001b]8;;\u001b\\\n",
       "\u001b[2;36m                    \u001b[0m         dicators\\factory.py:\u001b[1;36m2885\u001b[0m: DeprecationWarning: Flags not at the start   \u001b[2m               \u001b[0m\n",
       "\u001b[2;36m                    \u001b[0m         of the expression \u001b[32m'adx\u001b[0m\u001b[32m[\u001b[0m\u001b[32m^/\u001b[0m\u001b[32m]\u001b[0m\u001b[32m*\\\\Z\u001b[0m\u001b[32m(\u001b[0m\u001b[32m?ms\u001b[0m\u001b[32m)\u001b[0m\u001b[32m'\u001b[0m                                   \u001b[2m               \u001b[0m\n",
       "\u001b[2;36m                    \u001b[0m           if not \u001b[1;35mre.match\u001b[0m\u001b[1m(\u001b[0m\u001b[1;35mglob2re\u001b[0m\u001b[1m(\u001b[0mpattern\u001b[1m)\u001b[0m, \u001b[1;35mindicator_name.split\u001b[0m\u001b[1m(\u001b[0m\u001b[32m\":\"\u001b[0m\u001b[1m)\u001b[0m\u001b[1m[\u001b[0m\u001b[1;36m1\u001b[0m\u001b[1m]\u001b[0m\u001b[1m)\u001b[0m:     \u001b[2m               \u001b[0m\n",
       "\u001b[2;36m                    \u001b[0m                                                                                \u001b[2m               \u001b[0m\n"
      ]
     },
     "metadata": {},
     "output_type": "display_data"
    },
    {
     "data": {
      "text/plain": [
       "['talib:ADX', 'talib:ADXR', 'pandas_ta:ADX', 'ta:ADXIndicator']"
      ]
     },
     "execution_count": 23,
     "metadata": {},
     "output_type": "execute_result"
    }
   ],
   "source": [
    "vbt.IF.list_indicators(\"adx*\")"
   ]
  },
  {
   "cell_type": "code",
   "execution_count": 56,
   "metadata": {},
   "outputs": [
    {
     "name": "stdout",
     "output_type": "stream",
     "text": [
      "ADXR.run(\n",
      "    high,\n",
      "    low,\n",
      "    close,\n",
      "    timeperiod=Default(value=14),\n",
      "    timeframe=Default(value=None),\n",
      "    short_name='adxr',\n",
      "    hide_params=None,\n",
      "    hide_default=True,\n",
      "    **kwargs\n",
      "):\n",
      "    Run `ADXR` indicator.\n",
      "    \n",
      "    * Inputs: `high`, `low`, `close`\n",
      "    * Parameters: `timeperiod`, `timeframe`\n",
      "    * Outputs: `real`\n",
      "    \n",
      "    Pass a list of parameter names as `hide_params` to hide their column levels, or True to hide all.\n",
      "    Set `hide_default` to False to show the column levels of the parameters with a default value.\n",
      "    \n",
      "    Other keyword arguments are passed to `ADXR.run_pipeline`.\n"
     ]
    }
   ],
   "source": [
    "vbt.phelp(vbt.talib(\"ADXR\").run)"
   ]
  },
  {
   "cell_type": "code",
   "execution_count": 57,
   "metadata": {},
   "outputs": [],
   "source": [
    "adx_ta = vbt.talib(\"ADXR\").run(\n",
    "    high=data.get(\"High\").iloc[index:], \n",
    "    low=data.get(\"Low\").iloc[index:], \n",
    "    close=data.get(\"Close\").iloc[index:],\n",
    "    timeperiod=14,\n",
    ")"
   ]
  },
  {
   "cell_type": "code",
   "execution_count": 58,
   "metadata": {},
   "outputs": [
    {
     "data": {
      "text/plain": [
       "20.14191131653039"
      ]
     },
     "execution_count": 58,
     "metadata": {},
     "output_type": "execute_result"
    }
   ],
   "source": [
    "adx_ta.real.iloc[-1]"
   ]
  },
  {
   "cell_type": "code",
   "execution_count": 13,
   "metadata": {},
   "outputs": [
    {
     "data": {
      "text/plain": [
       "Timestamp('2023-04-11 16:12:00+0700', tz='Asia/Bangkok')"
      ]
     },
     "execution_count": 13,
     "metadata": {},
     "output_type": "execute_result"
    }
   ],
   "source": [
    "data.data[\"BTCUSDT\"].iloc[-1].name"
   ]
  },
  {
   "cell_type": "code",
   "execution_count": 14,
   "metadata": {},
   "outputs": [],
   "source": [
    "cur = data.data[\"BTCUSDT\"].iloc[-1].name"
   ]
  },
  {
   "cell_type": "code",
   "execution_count": 19,
   "metadata": {},
   "outputs": [
    {
     "data": {
      "text/plain": [
       "datetime.datetime(2023, 4, 11, 16, 12, tzinfo=<DstTzInfo 'Asia/Bangkok' +07+7:00:00 STD>)"
      ]
     },
     "execution_count": 19,
     "metadata": {},
     "output_type": "execute_result"
    }
   ],
   "source": [
    "cur.to_pydatetime()"
   ]
  },
  {
   "cell_type": "code",
   "execution_count": 18,
   "metadata": {},
   "outputs": [
    {
     "data": {
      "text/plain": [
       "datetime.datetime(2023, 4, 12, 14, 36, tzinfo=<DstTzInfo 'Asia/Bangkok' +07+7:00:00 STD>)"
      ]
     },
     "execution_count": 18,
     "metadata": {},
     "output_type": "execute_result"
    }
   ],
   "source": [
    "from datetime import datetime\n",
    "import pytz\n",
    "tz = pytz.timezone(\"Asia/Bangkok\")\n",
    "datetime.now(tz=tz).replace(second=0, microsecond=0)"
   ]
  },
  {
   "cell_type": "code",
   "execution_count": null,
   "metadata": {},
   "outputs": [],
   "source": []
  }
 ],
 "metadata": {
  "kernelspec": {
   "display_name": "Kedro (vectorbt_tester)",
   "language": "python",
   "name": "kedro_vectorbt_tester"
  },
  "language_info": {
   "codemirror_mode": {
    "name": "ipython",
    "version": 3
   },
   "file_extension": ".py",
   "mimetype": "text/x-python",
   "name": "python",
   "nbconvert_exporter": "python",
   "pygments_lexer": "ipython3",
   "version": "3.8.16"
  },
  "orig_nbformat": 4
 },
 "nbformat": 4,
 "nbformat_minor": 2
}
